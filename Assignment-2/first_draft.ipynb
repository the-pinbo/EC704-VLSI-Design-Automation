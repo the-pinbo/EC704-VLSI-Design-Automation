{
 "cells": [
  {
   "cell_type": "code",
   "execution_count": 1,
   "metadata": {},
   "outputs": [],
   "source": [
    "# to plot the rectangles\n",
    "import matplotlib.pyplot as plt\n",
    "# to parse the text file\n",
    "import re\n",
    "# to store the data as a dataframe\n",
    "import pandas as pd\n",
    "#  type hinting for the function\n",
    "from typing import Optional, List, Tuple, Set\n",
    "# default dictionary to store rectangles\n",
    "from collections import defaultdict\n",
    "\n",
    "import numpy as np"
   ]
  },
  {
   "cell_type": "code",
   "execution_count": 3,
   "metadata": {},
   "outputs": [],
   "source": [
    "input1 = './input_1.txt'\n",
    "input2 = './input_2.txt'"
   ]
  },
  {
   "cell_type": "code",
   "execution_count": 47,
   "metadata": {},
   "outputs": [],
   "source": [
    "class FloorPlan:\n",
    "    class Block:\n",
    "        def __init__(self,idx: int, width: int, height: int, label: str = None):\n",
    "            self.label = label or f'block_{idx}'\n",
    "            self.idx = idx\n",
    "            self.width = width\n",
    "            self.height = height\n",
    "        \n",
    "        def __repr__(self):\n",
    "            return f'label:{self.label} width:{self.width} height:{self.height} idx:{self.idx}'\n",
    "\n",
    "        def __str__(self):\n",
    "            return f'label: {self.label}, width: {self.width}, height: {self.height}, idx: {self.idx}'\n",
    "\n",
    "    def __init__(self,input1,input2):\n",
    "        with open(input1, 'r') as file:\n",
    "            input1_data = file.read()\n",
    "\n",
    "        with open(input2, 'r') as file:\n",
    "            input2_data = file.read()\n",
    "        \n",
    "        input1_data = eval(input1_data.replace(' ', '').replace('\\n', '').replace('{', '(').replace('}', ')'))\n",
    "        self.adjM = np.array([eval('['+row.strip().replace(' ', ',')+']')for row in input2_data.strip()[1:-1].split('\\n')])\n",
    "        \n",
    "        self.num_blocks = input1_data[0]\n",
    "        self.blocks = [FloorPlan.Block(idx, width, height) for idx, (width, height) in enumerate(input1_data[1:])]\n",
    "\n",
    "    def __repr__(self):\n",
    "        return f'num_blocks: {self.num_blocks}, blocks: {self.blocks}'\n",
    "    \n",
    "    def __str__(self):\n",
    "        return f'num_blocks: {self.num_blocks}, blocks: {self.blocks}'"
   ]
  },
  {
   "cell_type": "code",
   "execution_count": 55,
   "metadata": {},
   "outputs": [
    {
     "data": {
      "text/plain": [
       "'graph.pdf'"
      ]
     },
     "execution_count": 55,
     "metadata": {},
     "output_type": "execute_result"
    }
   ],
   "source": [
    "import graphviz as gv\n",
    "\n",
    "def plot_graph(adjM):\n",
    "    \n",
    "    dot = gv.Graph(node_attr={'shape': 'rectangle'})\n",
    "    \n",
    "    for i in range(len(adjM)):\n",
    "        for j in range(i,len(adjM[i])):\n",
    "            for k in range(adjM[i][j]):\n",
    "                dot.edge(str(i), str(j))\n",
    "    \n",
    "    return dot\n",
    "\n",
    "adjM = [[0, 1, 3, 2, 4, 2],\n",
    "       [1, 0, 3, 1, 2, 1],\n",
    "       [3, 3, 0, 1, 1, 2],\n",
    "       [2, 1, 1, 0, 2, 3],\n",
    "       [4, 2, 1, 2, 0, 1],\n",
    "       [2, 1, 2, 3, 1, 0]]\n",
    "\n",
    "dot = plot_graph(adjM)\n",
    "dot.render('graph', view=True)\n"
   ]
  },
  {
   "cell_type": "code",
   "execution_count": null,
   "metadata": {},
   "outputs": [],
   "source": []
  }
 ],
 "metadata": {
  "kernelspec": {
   "display_name": ".venv",
   "language": "python",
   "name": "python3"
  },
  "language_info": {
   "codemirror_mode": {
    "name": "ipython",
    "version": 3
   },
   "file_extension": ".py",
   "mimetype": "text/x-python",
   "name": "python",
   "nbconvert_exporter": "python",
   "pygments_lexer": "ipython3",
   "version": "3.9.14"
  },
  "orig_nbformat": 4,
  "vscode": {
   "interpreter": {
    "hash": "bce78074934ee63189b57c4f407550d4002f3a6570ccc295ac91d26534240ce1"
   }
  }
 },
 "nbformat": 4,
 "nbformat_minor": 2
}
