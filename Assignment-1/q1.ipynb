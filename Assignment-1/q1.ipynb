{
 "cells": [
  {
   "cell_type": "code",
   "execution_count": 2,
   "metadata": {},
   "outputs": [],
   "source": [
    "# to plot the rectangles\n",
    "import matplotlib.pyplot as plt\n",
    "# to parse the text file\n",
    "import re\n",
    "# to store the data as a dataframe\n",
    "import pandas as pd"
   ]
  },
  {
   "cell_type": "code",
   "execution_count": 3,
   "metadata": {},
   "outputs": [],
   "source": [
    "def parse_file(filename:str)->pd.DataFrame:\n",
    "    \"\"\"Parse the text file and return a dataframe with the rectangle coordinates and ids of the form:\n",
    "    rectangle_id, x_min, y_min, x_max, y_max\n",
    "\n",
    "    Uses regular expressions to parse the text file that consists of 5 comma-separated values each of which is a sequence of one or more digits\n",
    "    \n",
    "    NOTE: Change the regular expression pattern to match the text file that you are using refer to the following link for more information: https://regex_min01.com/ \n",
    "    \n",
    "    regular expression pattern:\n",
    "        regex = r\".(\\d+),(.\\d+),(.\\d+),(.\\d+),(.\\d+).\"\n",
    "        details:\n",
    "            `.` is used to match any character except a newline\n",
    "            `\\d+` is used to match one or more digits\n",
    "        the `.` is used to match any character except a newline, which ensures that the pattern matches the entire string even if it contains space characters or other characters other than digits `{` or `}`\n",
    "    \n",
    "    Args:\n",
    "        filename (str): path to the text file\n",
    "\n",
    "    Returns:\n",
    "        pd.DataFrame: a dataframe with the following columns:\n",
    "            rectangle_id: the id of the rectangle\n",
    "            x_min: the x coordinate of the top left corner\n",
    "            y_min: the y coordinate of the top left corner\n",
    "            x_max: the x coordinate of the bottom right corner\n",
    "            y_max: the y coordinate of the bottom right corner\n",
    "        \n",
    "        the index of the dataframe is the rectangle_id\n",
    "    \"\"\"\n",
    "\n",
    "    # read the file\n",
    "    with open(filename, 'r') as file:\n",
    "        data = file.read()\n",
    "    # regular expression pattern is used to match a string \n",
    "    # that consists of five comma-separated values\n",
    "    \n",
    "    regex = r\".(\\d+),(.\\d+),(.\\d+),(.\\d+),(.\\d+).\"\n",
    "    matches = re.findall(regex, data)\n",
    "\n",
    "    df = pd.DataFrame(matches, columns=['rectangle_id', 'x_min', 'y_min', 'x_max', 'y_max'])\n",
    "    df.set_index('rectangle_id', inplace=True)\n",
    "\n",
    "    return df"
   ]
  },
  {
   "cell_type": "code",
   "execution_count": 9,
   "metadata": {},
   "outputs": [
    {
     "data": {
      "text/html": [
       "<div>\n",
       "<style scoped>\n",
       "    .dataframe tbody tr th:only-of-type {\n",
       "        vertical-align: middle;\n",
       "    }\n",
       "\n",
       "    .dataframe tbody tr th {\n",
       "        vertical-align: top;\n",
       "    }\n",
       "\n",
       "    .dataframe thead th {\n",
       "        text-align: right;\n",
       "    }\n",
       "</style>\n",
       "<table border=\"1\" class=\"dataframe\">\n",
       "  <thead>\n",
       "    <tr style=\"text-align: right;\">\n",
       "      <th></th>\n",
       "      <th>left_bottom_corner_x_coordinate</th>\n",
       "      <th>left_bottom_corner_y_coordinate</th>\n",
       "      <th>right_top_corner_x_coordinate</th>\n",
       "      <th>right_top_corner_y_coordinate</th>\n",
       "    </tr>\n",
       "  </thead>\n",
       "  <tbody>\n",
       "    <tr>\n",
       "      <th>count</th>\n",
       "      <td>10</td>\n",
       "      <td>10</td>\n",
       "      <td>10</td>\n",
       "      <td>10</td>\n",
       "    </tr>\n",
       "    <tr>\n",
       "      <th>unique</th>\n",
       "      <td>8</td>\n",
       "      <td>8</td>\n",
       "      <td>6</td>\n",
       "      <td>7</td>\n",
       "    </tr>\n",
       "    <tr>\n",
       "      <th>top</th>\n",
       "      <td>10</td>\n",
       "      <td>13</td>\n",
       "      <td>7</td>\n",
       "      <td>16</td>\n",
       "    </tr>\n",
       "    <tr>\n",
       "      <th>freq</th>\n",
       "      <td>2</td>\n",
       "      <td>2</td>\n",
       "      <td>2</td>\n",
       "      <td>2</td>\n",
       "    </tr>\n",
       "  </tbody>\n",
       "</table>\n",
       "</div>"
      ],
      "text/plain": [
       "       left_bottom_corner_x_coordinate left_bottom_corner_y_coordinate  \\\n",
       "count                               10                              10   \n",
       "unique                               8                               8   \n",
       "top                                 10                              13   \n",
       "freq                                 2                               2   \n",
       "\n",
       "       right_top_corner_x_coordinate right_top_corner_y_coordinate  \n",
       "count                             10                            10  \n",
       "unique                             6                             7  \n",
       "top                                7                            16  \n",
       "freq                               2                             2  "
      ]
     },
     "execution_count": 9,
     "metadata": {},
     "output_type": "execute_result"
    }
   ],
   "source": [
    "df = parse_file('test_data.txt')\n",
    "df.describe()"
   ]
  },
  {
   "cell_type": "code",
   "execution_count": 10,
   "metadata": {},
   "outputs": [
    {
     "data": {
      "text/html": [
       "<div>\n",
       "<style scoped>\n",
       "    .dataframe tbody tr th:only-of-type {\n",
       "        vertical-align: middle;\n",
       "    }\n",
       "\n",
       "    .dataframe tbody tr th {\n",
       "        vertical-align: top;\n",
       "    }\n",
       "\n",
       "    .dataframe thead th {\n",
       "        text-align: right;\n",
       "    }\n",
       "</style>\n",
       "<table border=\"1\" class=\"dataframe\">\n",
       "  <thead>\n",
       "    <tr style=\"text-align: right;\">\n",
       "      <th></th>\n",
       "      <th>left_bottom_corner_x_coordinate</th>\n",
       "      <th>left_bottom_corner_y_coordinate</th>\n",
       "      <th>right_top_corner_x_coordinate</th>\n",
       "      <th>right_top_corner_y_coordinate</th>\n",
       "    </tr>\n",
       "    <tr>\n",
       "      <th>rectangle_id</th>\n",
       "      <th></th>\n",
       "      <th></th>\n",
       "      <th></th>\n",
       "      <th></th>\n",
       "    </tr>\n",
       "  </thead>\n",
       "  <tbody>\n",
       "    <tr>\n",
       "      <th>1</th>\n",
       "      <td>4</td>\n",
       "      <td>13</td>\n",
       "      <td>7</td>\n",
       "      <td>16</td>\n",
       "    </tr>\n",
       "    <tr>\n",
       "      <th>2</th>\n",
       "      <td>10</td>\n",
       "      <td>13</td>\n",
       "      <td>13</td>\n",
       "      <td>16</td>\n",
       "    </tr>\n",
       "    <tr>\n",
       "      <th>3</th>\n",
       "      <td>3</td>\n",
       "      <td>11</td>\n",
       "      <td>13</td>\n",
       "      <td>18</td>\n",
       "    </tr>\n",
       "    <tr>\n",
       "      <th>4</th>\n",
       "      <td>6</td>\n",
       "      <td>7</td>\n",
       "      <td>11</td>\n",
       "      <td>12</td>\n",
       "    </tr>\n",
       "    <tr>\n",
       "      <th>5</th>\n",
       "      <td>7</td>\n",
       "      <td>8</td>\n",
       "      <td>9</td>\n",
       "      <td>10</td>\n",
       "    </tr>\n",
       "    <tr>\n",
       "      <th>6</th>\n",
       "      <td>11</td>\n",
       "      <td>8</td>\n",
       "      <td>15</td>\n",
       "      <td>10</td>\n",
       "    </tr>\n",
       "    <tr>\n",
       "      <th>7</th>\n",
       "      <td>13</td>\n",
       "      <td>10</td>\n",
       "      <td>19</td>\n",
       "      <td>18</td>\n",
       "    </tr>\n",
       "    <tr>\n",
       "      <th>8</th>\n",
       "      <td>16</td>\n",
       "      <td>14</td>\n",
       "      <td>19</td>\n",
       "      <td>17</td>\n",
       "    </tr>\n",
       "    <tr>\n",
       "      <th>9</th>\n",
       "      <td>10</td>\n",
       "      <td>15</td>\n",
       "      <td>11</td>\n",
       "      <td>18</td>\n",
       "    </tr>\n",
       "    <tr>\n",
       "      <th>10</th>\n",
       "      <td>3</td>\n",
       "      <td>5</td>\n",
       "      <td>7</td>\n",
       "      <td>9</td>\n",
       "    </tr>\n",
       "  </tbody>\n",
       "</table>\n",
       "</div>"
      ],
      "text/plain": [
       "             left_bottom_corner_x_coordinate left_bottom_corner_y_coordinate  \\\n",
       "rectangle_id                                                                   \n",
       "1                                          4                              13   \n",
       "2                                         10                              13   \n",
       "3                                          3                              11   \n",
       "4                                          6                               7   \n",
       "5                                          7                               8   \n",
       "6                                         11                               8   \n",
       "7                                         13                              10   \n",
       "8                                         16                              14   \n",
       "9                                         10                              15   \n",
       "10                                         3                               5   \n",
       "\n",
       "             right_top_corner_x_coordinate right_top_corner_y_coordinate  \n",
       "rectangle_id                                                              \n",
       "1                                        7                            16  \n",
       "2                                       13                            16  \n",
       "3                                       13                            18  \n",
       "4                                       11                            12  \n",
       "5                                        9                            10  \n",
       "6                                       15                            10  \n",
       "7                                       19                            18  \n",
       "8                                       19                            17  \n",
       "9                                       11                            18  \n",
       "10                                       7                             9  "
      ]
     },
     "execution_count": 10,
     "metadata": {},
     "output_type": "execute_result"
    }
   ],
   "source": [
    "df"
   ]
  },
  {
   "cell_type": "code",
   "execution_count": 22,
   "metadata": {},
   "outputs": [
    {
     "data": {
      "image/png": "[encoded data removed]",
      "text/plain": [
       "<Figure size 640x480 with 1 Axes>"
      ]
     },
     "metadata": {},
     "output_type": "display_data"
    }
   ],
   "source": [
    "def plot_rectangles(rectangles_df,point=None):\n",
    "    \"\"\"Plot the rectangles\n",
    "\n",
    "    Args:\n",
    "        rectangles_df (dataframe): a dataframe with the following columns:\n",
    "            rectangle_id: the id of the rectangle\n",
    "            x_min: the x coordinate of the top left corner\n",
    "            y_min: the y coordinate of the top left corner\n",
    "            x_max: the x coordinate of the bottom right corner\n",
    "            y_max: the y coordinate of the bottom right corner\n",
    "            \n",
    "    \"\"\"\n",
    "    fig, ax = plt.subplots()\n",
    "    for rectangle_id, x_min, y_min, x_max, y_max in df.itertuples():\n",
    "        x_min, y_min, x_max, y_max = int(x_min), int(y_min), int(x_max), int(y_max)\n",
    "        ax.add_patch(plt.Rectangle((x_min, y_min), x_max - x_min, y_max - y_min, fill=None, edgecolor=f'C{rectangle_id}'))\n",
    "        ax.annotate(rectangle_id, (x_min + (x_max - x_min) / 2, y_min + (y_max - y_min) / 2), color=f'C{rectangle_id}')\n",
    "    \n",
    "    \n",
    "    # set the limits of the axes\n",
    "    ax.set_xlim(0, 25)\n",
    "    ax.set_ylim(0, 25)\n",
    "    if point != None:\n",
    "        ax.plot(point[0], point[1], marker=\"o\", markersize=5, markeredgecolor=\"red\", markerfacecolor=\"green\")\n",
    "    ax.set_title('Rectangles')\n",
    "    ax.set_xlabel('x')\n",
    "    ax.set_ylabel('y')\n",
    "    plt.show()\n",
    "\n",
    "plot_rectangles(df)"
   ]
  },
  {
   "attachments": {},
   "cell_type": "markdown",
   "metadata": {},
   "source": [
    "### Q1) Accept input {x, y} from the keyboard. Print if this point lies within any of the rectangles in the given test data set. If yes then list the rectangles enclosing the given point in the format {rectangle_id, rectangle_id, rectangle_id, ... rectangle_id}. \n",
    "Eg: {1, 5, 8} implies that given point(x, y) is enclosed in the rectangles 1, 5 and 8."
   ]
  },
  {
   "cell_type": "code",
   "execution_count": 36,
   "metadata": {},
   "outputs": [],
   "source": [
    "def inRectangle(x1, y1, x2,\n",
    "              y2, x, y) :\n",
    "    return x >= x1 and x <= x2 and y >= y1 and y <= y2"
   ]
  },
  {
   "cell_type": "code",
   "execution_count": 39,
   "metadata": {},
   "outputs": [],
   "source": [
    "def pointInRectangles(df, point):\n",
    "    rectangles = []\n",
    "    for rectangle_id, x_min, y_min, x_max, y_max in df.itertuples():\n",
    "        x_min, y_min, x_max, y_max = int(x_min), int(y_min), int(x_max), int(y_max)\n",
    "        if inRectangle(x_min, y_min, x_max, y_max, point[0], point[1]):\n",
    "            rectangles.append([rectangle_id, x_min, y_min, x_max, y_max])\n",
    "    if rectangles:\n",
    "        df = pd.DataFrame(rectangles, columns=['rectangle_id', 'x_min', 'y_min', 'x_max', 'y_max'])\n",
    "        df.set_index('rectangle_id', inplace=True)\n",
    "        return df"
   ]
  },
  {
   "cell_type": "code",
   "execution_count": 40,
   "metadata": {},
   "outputs": [
    {
     "data": {
      "text/html": [
       "<div>\n",
       "<style scoped>\n",
       "    .dataframe tbody tr th:only-of-type {\n",
       "        vertical-align: middle;\n",
       "    }\n",
       "\n",
       "    .dataframe tbody tr th {\n",
       "        vertical-align: top;\n",
       "    }\n",
       "\n",
       "    .dataframe thead th {\n",
       "        text-align: right;\n",
       "    }\n",
       "</style>\n",
       "<table border=\"1\" class=\"dataframe\">\n",
       "  <thead>\n",
       "    <tr style=\"text-align: right;\">\n",
       "      <th></th>\n",
       "      <th>x_min</th>\n",
       "      <th>y_min</th>\n",
       "      <th>x_max</th>\n",
       "      <th>y_max</th>\n",
       "    </tr>\n",
       "    <tr>\n",
       "      <th>rectangle_id</th>\n",
       "      <th></th>\n",
       "      <th></th>\n",
       "      <th></th>\n",
       "      <th></th>\n",
       "    </tr>\n",
       "  </thead>\n",
       "  <tbody>\n",
       "    <tr>\n",
       "      <th>2</th>\n",
       "      <td>10</td>\n",
       "      <td>13</td>\n",
       "      <td>13</td>\n",
       "      <td>16</td>\n",
       "    </tr>\n",
       "    <tr>\n",
       "      <th>3</th>\n",
       "      <td>3</td>\n",
       "      <td>11</td>\n",
       "      <td>13</td>\n",
       "      <td>18</td>\n",
       "    </tr>\n",
       "    <tr>\n",
       "      <th>9</th>\n",
       "      <td>10</td>\n",
       "      <td>15</td>\n",
       "      <td>11</td>\n",
       "      <td>18</td>\n",
       "    </tr>\n",
       "  </tbody>\n",
       "</table>\n",
       "</div>"
      ],
      "text/plain": [
       "              x_min  y_min  x_max  y_max\n",
       "rectangle_id                            \n",
       "2                10     13     13     16\n",
       "3                 3     11     13     18\n",
       "9                10     15     11     18"
      ]
     },
     "execution_count": 40,
     "metadata": {},
     "output_type": "execute_result"
    }
   ],
   "source": [
    "point = (10.5, 15.5)\n",
    "pointInRectangles(df,point)"
   ]
  },
  {
   "cell_type": "code",
   "execution_count": 35,
   "metadata": {},
   "outputs": [
    {
     "data": {
      "image/png": "[encoded data removed]",
      "text/plain": [
       "<Figure size 640x480 with 1 Axes>"
      ]
     },
     "metadata": {},
     "output_type": "display_data"
    }
   ],
   "source": [
    "plot_rectangles(df,point)"
   ]
  },
  {
   "attachments": {},
   "cell_type": "markdown",
   "metadata": {},
   "source": [
    "### Q2) List of rectangles that don't overlap any other rectangles. The output should be in the format {rectangle_id, rectangle_id, rectangle_id, ... rectangle_id} "
   ]
  },
  {
   "cell_type": "code",
   "execution_count": 92,
   "metadata": {},
   "outputs": [
    {
     "data": {
      "text/html": [
       "<div>\n",
       "<style scoped>\n",
       "    .dataframe tbody tr th:only-of-type {\n",
       "        vertical-align: middle;\n",
       "    }\n",
       "\n",
       "    .dataframe tbody tr th {\n",
       "        vertical-align: top;\n",
       "    }\n",
       "\n",
       "    .dataframe thead th {\n",
       "        text-align: right;\n",
       "    }\n",
       "</style>\n",
       "<table border=\"1\" class=\"dataframe\">\n",
       "  <thead>\n",
       "    <tr style=\"text-align: right;\">\n",
       "      <th></th>\n",
       "      <th>left_bottom_corner_x_coordinate</th>\n",
       "      <th>left_bottom_corner_y_coordinate</th>\n",
       "      <th>right_top_corner_x_coordinate</th>\n",
       "      <th>right_top_corner_y_coordinate</th>\n",
       "    </tr>\n",
       "    <tr>\n",
       "      <th>rectangle_id</th>\n",
       "      <th></th>\n",
       "      <th></th>\n",
       "      <th></th>\n",
       "      <th></th>\n",
       "    </tr>\n",
       "  </thead>\n",
       "  <tbody>\n",
       "    <tr>\n",
       "      <th>1</th>\n",
       "      <td>4</td>\n",
       "      <td>13</td>\n",
       "      <td>7</td>\n",
       "      <td>16</td>\n",
       "    </tr>\n",
       "    <tr>\n",
       "      <th>2</th>\n",
       "      <td>10</td>\n",
       "      <td>13</td>\n",
       "      <td>13</td>\n",
       "      <td>16</td>\n",
       "    </tr>\n",
       "    <tr>\n",
       "      <th>3</th>\n",
       "      <td>3</td>\n",
       "      <td>11</td>\n",
       "      <td>13</td>\n",
       "      <td>18</td>\n",
       "    </tr>\n",
       "    <tr>\n",
       "      <th>4</th>\n",
       "      <td>6</td>\n",
       "      <td>7</td>\n",
       "      <td>11</td>\n",
       "      <td>12</td>\n",
       "    </tr>\n",
       "    <tr>\n",
       "      <th>5</th>\n",
       "      <td>7</td>\n",
       "      <td>8</td>\n",
       "      <td>9</td>\n",
       "      <td>10</td>\n",
       "    </tr>\n",
       "    <tr>\n",
       "      <th>6</th>\n",
       "      <td>11</td>\n",
       "      <td>8</td>\n",
       "      <td>15</td>\n",
       "      <td>10</td>\n",
       "    </tr>\n",
       "    <tr>\n",
       "      <th>7</th>\n",
       "      <td>13</td>\n",
       "      <td>10</td>\n",
       "      <td>19</td>\n",
       "      <td>18</td>\n",
       "    </tr>\n",
       "    <tr>\n",
       "      <th>8</th>\n",
       "      <td>16</td>\n",
       "      <td>14</td>\n",
       "      <td>19</td>\n",
       "      <td>17</td>\n",
       "    </tr>\n",
       "    <tr>\n",
       "      <th>9</th>\n",
       "      <td>10</td>\n",
       "      <td>15</td>\n",
       "      <td>11</td>\n",
       "      <td>18</td>\n",
       "    </tr>\n",
       "    <tr>\n",
       "      <th>10</th>\n",
       "      <td>3</td>\n",
       "      <td>5</td>\n",
       "      <td>7</td>\n",
       "      <td>9</td>\n",
       "    </tr>\n",
       "  </tbody>\n",
       "</table>\n",
       "</div>"
      ],
      "text/plain": [
       "             left_bottom_corner_x_coordinate left_bottom_corner_y_coordinate  \\\n",
       "rectangle_id                                                                   \n",
       "1                                          4                              13   \n",
       "2                                         10                              13   \n",
       "3                                          3                              11   \n",
       "4                                          6                               7   \n",
       "5                                          7                               8   \n",
       "6                                         11                               8   \n",
       "7                                         13                              10   \n",
       "8                                         16                              14   \n",
       "9                                         10                              15   \n",
       "10                                         3                               5   \n",
       "\n",
       "             right_top_corner_x_coordinate right_top_corner_y_coordinate  \n",
       "rectangle_id                                                              \n",
       "1                                        7                            16  \n",
       "2                                       13                            16  \n",
       "3                                       13                            18  \n",
       "4                                       11                            12  \n",
       "5                                        9                            10  \n",
       "6                                       15                            10  \n",
       "7                                       19                            18  \n",
       "8                                       19                            17  \n",
       "9                                       11                            18  \n",
       "10                                       7                             9  "
      ]
     },
     "execution_count": 92,
     "metadata": {},
     "output_type": "execute_result"
    }
   ],
   "source": [
    "df"
   ]
  },
  {
   "cell_type": "code",
   "execution_count": 103,
   "metadata": {},
   "outputs": [],
   "source": [
    "def overlap(rect1, rect2):\n",
    "    x_min, y_min, x_max, y_max = rect1\n",
    "    x_min2, y_min2, x_max2, y_max2 = rect2\n",
    "    x_min, y_min, x_max, y_max = int(x_min), int(y_min), int(x_max), int(y_max)\n",
    "    x_min2, y_min2, x_max2, y_max2 = int(x_min2), int(y_min2), int(x_max2), int(y_max2)\n",
    "    # print(x_min, y_min, x_max, y_max, x_min2, y_min2, x_max2, y_max2)\n",
    "    return not (x_max < x_min2 or x_min > x_max2 or y_max < y_min2 or y_min > y_max2)\n",
    "\n",
    "def pointInRectangles(rectangles):\n",
    "    overlap_list = []\n",
    "    non_overlap_list = []\n",
    "    for i in range(rectangles.shape[0]):\n",
    "        rect1 = rectangles.iloc[i, :]\n",
    "        for j in range(i+1, rectangles.shape[0]):\n",
    "            rect2 = rectangles.iloc[j, :]\n",
    "            # print(i,j,rect1, rect2)\n",
    "            if overlap(rect1, rect2):\n",
    "                overlap_list.append((rectangles.iloc[i, :]['rectangle_id'],rectangles.iloc[j, :]['rectangle_id']))\n",
    "            else:\n",
    "                non_overlap_list.append((rectangles.iloc[i, :]['rectangle_id'],rectangles.iloc[j, :]['rectangle_id']))\n",
    "\n",
    "    return overlap_list, non_overlap_list\n"
   ]
  },
  {
   "cell_type": "code",
   "execution_count": 110,
   "metadata": {},
   "outputs": [
    {
     "data": {
      "text/plain": [
       "numpy.ndarray"
      ]
     },
     "execution_count": 110,
     "metadata": {},
     "output_type": "execute_result"
    }
   ],
   "source": [
    "type(df.iloc[0, :])"
   ]
  },
  {
   "cell_type": "code",
   "execution_count": 104,
   "metadata": {},
   "outputs": [
    {
     "ename": "KeyError",
     "evalue": "'rectangle_id'",
     "output_type": "error",
     "traceback": [
      "\u001b[0;31m---------------------------------------------------------------------------\u001b[0m",
      "\u001b[0;31mKeyError\u001b[0m                                  Traceback (most recent call last)",
      "File \u001b[0;32m~/Documents/VLSI-CAD/.venv/lib64/python3.9/site-packages/pandas/core/indexes/base.py:3802\u001b[0m, in \u001b[0;36mIndex.get_loc\u001b[0;34m(self, key, method, tolerance)\u001b[0m\n\u001b[1;32m   3801\u001b[0m \u001b[39mtry\u001b[39;00m:\n\u001b[0;32m-> 3802\u001b[0m     \u001b[39mreturn\u001b[39;00m \u001b[39mself\u001b[39;49m\u001b[39m.\u001b[39;49m_engine\u001b[39m.\u001b[39;49mget_loc(casted_key)\n\u001b[1;32m   3803\u001b[0m \u001b[39mexcept\u001b[39;00m \u001b[39mKeyError\u001b[39;00m \u001b[39mas\u001b[39;00m err:\n",
      "File \u001b[0;32m~/Documents/VLSI-CAD/.venv/lib64/python3.9/site-packages/pandas/_libs/index.pyx:138\u001b[0m, in \u001b[0;36mpandas._libs.index.IndexEngine.get_loc\u001b[0;34m()\u001b[0m\n",
      "File \u001b[0;32m~/Documents/VLSI-CAD/.venv/lib64/python3.9/site-packages/pandas/_libs/index.pyx:165\u001b[0m, in \u001b[0;36mpandas._libs.index.IndexEngine.get_loc\u001b[0;34m()\u001b[0m\n",
      "File \u001b[0;32mpandas/_libs/hashtable_class_helper.pxi:5745\u001b[0m, in \u001b[0;36mpandas._libs.hashtable.PyObjectHashTable.get_item\u001b[0;34m()\u001b[0m\n",
      "File \u001b[0;32mpandas/_libs/hashtable_class_helper.pxi:5753\u001b[0m, in \u001b[0;36mpandas._libs.hashtable.PyObjectHashTable.get_item\u001b[0;34m()\u001b[0m\n",
      "\u001b[0;31mKeyError\u001b[0m: 'rectangle_id'",
      "\nThe above exception was the direct cause of the following exception:\n",
      "\u001b[0;31mKeyError\u001b[0m                                  Traceback (most recent call last)",
      "Cell \u001b[0;32mIn[104], line 1\u001b[0m\n\u001b[0;32m----> 1\u001b[0m pointInRectangles(df)\n",
      "Cell \u001b[0;32mIn[103], line 20\u001b[0m, in \u001b[0;36mpointInRectangles\u001b[0;34m(rectangles)\u001b[0m\n\u001b[1;32m     18\u001b[0m             overlap_list\u001b[39m.\u001b[39mappend((rectangles\u001b[39m.\u001b[39miloc[i, :][\u001b[39m'\u001b[39m\u001b[39mrectangle_id\u001b[39m\u001b[39m'\u001b[39m],rectangles\u001b[39m.\u001b[39miloc[j, :][\u001b[39m'\u001b[39m\u001b[39mrectangle_id\u001b[39m\u001b[39m'\u001b[39m]))\n\u001b[1;32m     19\u001b[0m         \u001b[39melse\u001b[39;00m:\n\u001b[0;32m---> 20\u001b[0m             non_overlap_list\u001b[39m.\u001b[39mappend((rectangles\u001b[39m.\u001b[39;49miloc[i, :][\u001b[39m'\u001b[39;49m\u001b[39mrectangle_id\u001b[39;49m\u001b[39m'\u001b[39;49m],rectangles\u001b[39m.\u001b[39miloc[j, :][\u001b[39m'\u001b[39m\u001b[39mrectangle_id\u001b[39m\u001b[39m'\u001b[39m]))\n\u001b[1;32m     22\u001b[0m \u001b[39mreturn\u001b[39;00m overlap_list, non_overlap_list\n",
      "File \u001b[0;32m~/Documents/VLSI-CAD/.venv/lib64/python3.9/site-packages/pandas/core/series.py:981\u001b[0m, in \u001b[0;36mSeries.__getitem__\u001b[0;34m(self, key)\u001b[0m\n\u001b[1;32m    978\u001b[0m     \u001b[39mreturn\u001b[39;00m \u001b[39mself\u001b[39m\u001b[39m.\u001b[39m_values[key]\n\u001b[1;32m    980\u001b[0m \u001b[39melif\u001b[39;00m key_is_scalar:\n\u001b[0;32m--> 981\u001b[0m     \u001b[39mreturn\u001b[39;00m \u001b[39mself\u001b[39;49m\u001b[39m.\u001b[39;49m_get_value(key)\n\u001b[1;32m    983\u001b[0m \u001b[39mif\u001b[39;00m is_hashable(key):\n\u001b[1;32m    984\u001b[0m     \u001b[39m# Otherwise index.get_value will raise InvalidIndexError\u001b[39;00m\n\u001b[1;32m    985\u001b[0m     \u001b[39mtry\u001b[39;00m:\n\u001b[1;32m    986\u001b[0m         \u001b[39m# For labels that don't resolve as scalars like tuples and frozensets\u001b[39;00m\n",
      "File \u001b[0;32m~/Documents/VLSI-CAD/.venv/lib64/python3.9/site-packages/pandas/core/series.py:1089\u001b[0m, in \u001b[0;36mSeries._get_value\u001b[0;34m(self, label, takeable)\u001b[0m\n\u001b[1;32m   1086\u001b[0m     \u001b[39mreturn\u001b[39;00m \u001b[39mself\u001b[39m\u001b[39m.\u001b[39m_values[label]\n\u001b[1;32m   1088\u001b[0m \u001b[39m# Similar to Index.get_value, but we do not fall back to positional\u001b[39;00m\n\u001b[0;32m-> 1089\u001b[0m loc \u001b[39m=\u001b[39m \u001b[39mself\u001b[39;49m\u001b[39m.\u001b[39;49mindex\u001b[39m.\u001b[39;49mget_loc(label)\n\u001b[1;32m   1090\u001b[0m \u001b[39mreturn\u001b[39;00m \u001b[39mself\u001b[39m\u001b[39m.\u001b[39mindex\u001b[39m.\u001b[39m_get_values_for_loc(\u001b[39mself\u001b[39m, loc, label)\n",
      "File \u001b[0;32m~/Documents/VLSI-CAD/.venv/lib64/python3.9/site-packages/pandas/core/indexes/base.py:3804\u001b[0m, in \u001b[0;36mIndex.get_loc\u001b[0;34m(self, key, method, tolerance)\u001b[0m\n\u001b[1;32m   3802\u001b[0m     \u001b[39mreturn\u001b[39;00m \u001b[39mself\u001b[39m\u001b[39m.\u001b[39m_engine\u001b[39m.\u001b[39mget_loc(casted_key)\n\u001b[1;32m   3803\u001b[0m \u001b[39mexcept\u001b[39;00m \u001b[39mKeyError\u001b[39;00m \u001b[39mas\u001b[39;00m err:\n\u001b[0;32m-> 3804\u001b[0m     \u001b[39mraise\u001b[39;00m \u001b[39mKeyError\u001b[39;00m(key) \u001b[39mfrom\u001b[39;00m \u001b[39merr\u001b[39;00m\n\u001b[1;32m   3805\u001b[0m \u001b[39mexcept\u001b[39;00m \u001b[39mTypeError\u001b[39;00m:\n\u001b[1;32m   3806\u001b[0m     \u001b[39m# If we have a listlike key, _check_indexing_error will raise\u001b[39;00m\n\u001b[1;32m   3807\u001b[0m     \u001b[39m#  InvalidIndexError. Otherwise we fall through and re-raise\u001b[39;00m\n\u001b[1;32m   3808\u001b[0m     \u001b[39m#  the TypeError.\u001b[39;00m\n\u001b[1;32m   3809\u001b[0m     \u001b[39mself\u001b[39m\u001b[39m.\u001b[39m_check_indexing_error(key)\n",
      "\u001b[0;31mKeyError\u001b[0m: 'rectangle_id'"
     ]
    }
   ],
   "source": [
    "apointInRectangles(df)"
   ]
  },
  {
   "attachments": {},
   "cell_type": "markdown",
   "metadata": {},
   "source": [
    "### Q3) List of rectangles that overlap with other rectangles in the format {{rectangle_id, list_of_rectangle_ids_which_are_overlapping_with_it}, {rectangle_id, list_of_rectangle_ids_which_are_overlapping_with_it}, ..... {rectangle_id, list_of_rectangle_ids_which_are_overlapping_with_it}}\n",
    "Eg: {{5, 7, 9, 12}, {6, 10, 12}} implies that rectangle 5 overlaps with rectangles 7, 9 and 12; rectangle 6 overlaps with rectangles 10 and 12.\n",
    "\n",
    "\n"
   ]
  },
  {
   "cell_type": "code",
   "execution_count": null,
   "metadata": {},
   "outputs": [],
   "source": []
  },
  {
   "attachments": {},
   "cell_type": "markdown",
   "metadata": {},
   "source": [
    "### Q4) List of rectangles that contain other rectangles in the format {rectangle_id, list_of_rectangle_ids_which_are_contained_in}\n",
    "Eg: {{5, 2, 6}, {4, 3, 9}} implies that rectangle 5 contains rectangles 2 and 6; rectangle 4 contains rectangles 3 and 9."
   ]
  },
  {
   "cell_type": "code",
   "execution_count": null,
   "metadata": {},
   "outputs": [],
   "source": []
  },
  {
   "attachments": {},
   "cell_type": "markdown",
   "metadata": {},
   "source": [
    "### Q5) List the rectangles that are abutting each other in the following format {rectangle_id, which side_(e, w, n, s), rectangle_id_of_abutting_rectangle_id}\n",
    "Eg: {{5, n, 7}, {4, e, 3}} implies that rectangle 5 has rectangle 7 abutting it on the northern side, rectangle 4 has rectangle 3 abutting it on the eastern side."
   ]
  },
  {
   "cell_type": "code",
   "execution_count": null,
   "metadata": {},
   "outputs": [],
   "source": []
  }
 ],
 "metadata": {
  "kernelspec": {
   "display_name": ".venv",
   "language": "python",
   "name": "python3"
  },
  "language_info": {
   "codemirror_mode": {
    "name": "ipython",
    "version": 3
   },
   "file_extension": ".py",
   "mimetype": "text/x-python",
   "name": "python",
   "nbconvert_exporter": "python",
   "pygments_lexer": "ipython3",
   "version": "3.9.14"
  },
  "orig_nbformat": 4,
  "vscode": {
   "interpreter": {
    "hash": "bc24794a0f400e9426646528aa5176aa55b218d6d2032b937ade046ce15701fe"
   }
  }
 },
 "nbformat": 4,
 "nbformat_minor": 2
}
