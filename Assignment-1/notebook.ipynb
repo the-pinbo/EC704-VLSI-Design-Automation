{
 "cells": [
  {
   "cell_type": "code",
   "execution_count": 1,
   "metadata": {},
   "outputs": [],
   "source": [
    "import matplotlib.pyplot as plt\n",
    "import re\n",
    "import pandas as pd"
   ]
  },
  {
   "cell_type": "code",
   "execution_count": 9,
   "metadata": {},
   "outputs": [
    {
     "ename": "SyntaxError",
     "evalue": "unexpected EOF while parsing (<string>, line 1)",
     "output_type": "error",
     "traceback": [
      "Traceback \u001b[0;36m(most recent call last)\u001b[0m:\n",
      "\u001b[0m  File \u001b[1;32m~/Documents/VLSI-CAD/.venv/lib/python3.9/site-packages/IPython/core/interactiveshell.py:3442\u001b[0m in \u001b[1;35mrun_code\u001b[0m\n    exec(code_obj, self.user_global_ns, self.user_ns)\u001b[0m\n",
      "\u001b[0m  Cell \u001b[1;32mIn[9], line 30\u001b[0m\n    rectangles = read_rectangles(\"test_data.txt\")\u001b[0m\n",
      "\u001b[0;36m  Cell \u001b[0;32mIn[9], line 8\u001b[0;36m in \u001b[0;35mread_rectangles\u001b[0;36m\n\u001b[0;31m    rectangle = eval(line.strip())\u001b[0;36m\n",
      "\u001b[0;36m  File \u001b[0;32m<string>:1\u001b[0;36m\u001b[0m\n\u001b[0;31m    {{1, 4, 13, 7, 16},\u001b[0m\n\u001b[0m                      ^\u001b[0m\n\u001b[0;31mSyntaxError\u001b[0m\u001b[0;31m:\u001b[0m unexpected EOF while parsing\n"
     ]
    }
   ],
   "source": [
    "def read_rectangles(filename):\n",
    "    rectangles = []\n",
    "    with open(filename, 'r') as file:\n",
    "        for line in file:\n",
    "            rectangle = eval(line.strip())\n",
    "            rectangles.append(rectangle)\n",
    "    return rectangles\n",
    "\n",
    "def create_dataframe(rectangles):\n",
    "    data = {'rectangle_id': [rectangle[0] for rectangle in rectangles],\n",
    "            'x1': [rectangle[1] for rectangle in rectangles],\n",
    "            'y1': [rectangle[2] for rectangle in rectangles],\n",
    "            'x2': [rectangle[3] for rectangle in rectangles],\n",
    "            'y2': [rectangle[4] for rectangle in rectangles]}\n",
    "    return pd.DataFrame(data)\n",
    "\n",
    "def plot_rectangles(rectangles_df):\n",
    "    fig, ax = plt.subplots()\n",
    "    for i, rectangle in rectangles_df.iterrows():\n",
    "        rectangle_id, x1, y1, x2, y2 = rectangle\n",
    "        ax.add_patch(plt.Rectangle((x1, y1), x2 - x1, y2 - y1, fill=None, edgecolor=f'C{i}'))\n",
    "        ax.annotate(rectangle_id, (x1 + (x2 - x1) / 2, y1 + (y2 - y1) / 2), color=f'C{i}')\n",
    "    ax.set_xlim(0, 20)\n",
    "    ax.set_ylim(0, 20)\n",
    "    plt.show()\n",
    "\n",
    "rectangles = read_rectangles(\"test_data.txt\")\n",
    "rectangles_df = create_dataframe(rectangles)\n",
    "plot_rectangles(rectangles_df)\n"
   ]
  },
  {
   "cell_type": "code",
   "execution_count": 10,
   "metadata": {},
   "outputs": [
    {
     "ename": "ValueError",
     "evalue": "invalid literal for int() with base 10: '{1'",
     "output_type": "error",
     "traceback": [
      "\u001b[0;31m---------------------------------------------------------------------------\u001b[0m",
      "\u001b[0;31mValueError\u001b[0m                                Traceback (most recent call last)",
      "Cell \u001b[0;32mIn[10], line 9\u001b[0m\n\u001b[1;32m      6\u001b[0m             rectangles\u001b[39m.\u001b[39mappend(rectangle)\n\u001b[1;32m      7\u001b[0m     \u001b[39mreturn\u001b[39;00m rectangles\n\u001b[0;32m----> 9\u001b[0m rectangles \u001b[39m=\u001b[39m parse_rectangles(\u001b[39m'\u001b[39;49m\u001b[39mtest_data.txt\u001b[39;49m\u001b[39m'\u001b[39;49m)\n\u001b[1;32m     10\u001b[0m \u001b[39mprint\u001b[39m(rectangles)\n",
      "Cell \u001b[0;32mIn[10], line 5\u001b[0m, in \u001b[0;36mparse_rectangles\u001b[0;34m(filename)\u001b[0m\n\u001b[1;32m      3\u001b[0m \u001b[39mwith\u001b[39;00m \u001b[39mopen\u001b[39m(filename, \u001b[39m'\u001b[39m\u001b[39mr\u001b[39m\u001b[39m'\u001b[39m) \u001b[39mas\u001b[39;00m file:\n\u001b[1;32m      4\u001b[0m     \u001b[39mfor\u001b[39;00m line \u001b[39min\u001b[39;00m file:\n\u001b[0;32m----> 5\u001b[0m         rectangle \u001b[39m=\u001b[39m [\u001b[39mint\u001b[39m(x) \u001b[39mfor\u001b[39;00m x \u001b[39min\u001b[39;00m line\u001b[39m.\u001b[39mstrip()[\u001b[39m1\u001b[39m:\u001b[39m-\u001b[39m\u001b[39m1\u001b[39m]\u001b[39m.\u001b[39msplit(\u001b[39m'\u001b[39m\u001b[39m,\u001b[39m\u001b[39m'\u001b[39m)]\n\u001b[1;32m      6\u001b[0m         rectangles\u001b[39m.\u001b[39mappend(rectangle)\n\u001b[1;32m      7\u001b[0m \u001b[39mreturn\u001b[39;00m rectangles\n",
      "Cell \u001b[0;32mIn[10], line 5\u001b[0m, in \u001b[0;36m<listcomp>\u001b[0;34m(.0)\u001b[0m\n\u001b[1;32m      3\u001b[0m \u001b[39mwith\u001b[39;00m \u001b[39mopen\u001b[39m(filename, \u001b[39m'\u001b[39m\u001b[39mr\u001b[39m\u001b[39m'\u001b[39m) \u001b[39mas\u001b[39;00m file:\n\u001b[1;32m      4\u001b[0m     \u001b[39mfor\u001b[39;00m line \u001b[39min\u001b[39;00m file:\n\u001b[0;32m----> 5\u001b[0m         rectangle \u001b[39m=\u001b[39m [\u001b[39mint\u001b[39;49m(x) \u001b[39mfor\u001b[39;00m x \u001b[39min\u001b[39;00m line\u001b[39m.\u001b[39mstrip()[\u001b[39m1\u001b[39m:\u001b[39m-\u001b[39m\u001b[39m1\u001b[39m]\u001b[39m.\u001b[39msplit(\u001b[39m'\u001b[39m\u001b[39m,\u001b[39m\u001b[39m'\u001b[39m)]\n\u001b[1;32m      6\u001b[0m         rectangles\u001b[39m.\u001b[39mappend(rectangle)\n\u001b[1;32m      7\u001b[0m \u001b[39mreturn\u001b[39;00m rectangles\n",
      "\u001b[0;31mValueError\u001b[0m: invalid literal for int() with base 10: '{1'"
     ]
    }
   ],
   "source": [
    "def parse_rectangles(filename):\n",
    "    rectangles = []\n",
    "    with open(filename, 'r') as file:\n",
    "        for line in file:\n",
    "            rectangle = [int(x) for x in line.strip()[1:-1].split(',')]\n",
    "            rectangles.append(rectangle)\n",
    "    return rectangles\n",
    "\n",
    "rectangles = parse_rectangles('test_data.txt')\n",
    "print(rectangles)\n"
   ]
  },
  {
   "cell_type": "code",
   "execution_count": null,
   "metadata": {},
   "outputs": [],
   "source": []
  },
  {
   "cell_type": "code",
   "execution_count": 4,
   "metadata": {},
   "outputs": [],
   "source": [
    "def parse_file(filename):\n",
    "    with open(filename, 'r') as file:\n",
    "        data = file.read()\n",
    "\n",
    "    regex = r\".(\\d+),(.\\d+),(.\\d+),(.\\d+),(.\\d+).\"\n",
    "    matches = re.findall(regex, data)\n",
    "\n",
    "    df = pd.DataFrame(matches, columns=['rectangle_id', 'x1', 'y1', 'x2', 'y2'])\n",
    "    df.set_index('rectangle_id', inplace=True)\n",
    "\n",
    "    return df"
   ]
  },
  {
   "cell_type": "code",
   "execution_count": 5,
   "metadata": {},
   "outputs": [
    {
     "data": {
      "text/html": [
       "<div>\n",
       "<style scoped>\n",
       "    .dataframe tbody tr th:only-of-type {\n",
       "        vertical-align: middle;\n",
       "    }\n",
       "\n",
       "    .dataframe tbody tr th {\n",
       "        vertical-align: top;\n",
       "    }\n",
       "\n",
       "    .dataframe thead th {\n",
       "        text-align: right;\n",
       "    }\n",
       "</style>\n",
       "<table border=\"1\" class=\"dataframe\">\n",
       "  <thead>\n",
       "    <tr style=\"text-align: right;\">\n",
       "      <th></th>\n",
       "      <th>x1</th>\n",
       "      <th>y1</th>\n",
       "      <th>x2</th>\n",
       "      <th>y2</th>\n",
       "    </tr>\n",
       "    <tr>\n",
       "      <th>rectangle_id</th>\n",
       "      <th></th>\n",
       "      <th></th>\n",
       "      <th></th>\n",
       "      <th></th>\n",
       "    </tr>\n",
       "  </thead>\n",
       "  <tbody>\n",
       "    <tr>\n",
       "      <th>1</th>\n",
       "      <td>4</td>\n",
       "      <td>13</td>\n",
       "      <td>7</td>\n",
       "      <td>16</td>\n",
       "    </tr>\n",
       "    <tr>\n",
       "      <th>2</th>\n",
       "      <td>10</td>\n",
       "      <td>13</td>\n",
       "      <td>13</td>\n",
       "      <td>16</td>\n",
       "    </tr>\n",
       "    <tr>\n",
       "      <th>3</th>\n",
       "      <td>3</td>\n",
       "      <td>11</td>\n",
       "      <td>13</td>\n",
       "      <td>18</td>\n",
       "    </tr>\n",
       "    <tr>\n",
       "      <th>4</th>\n",
       "      <td>6</td>\n",
       "      <td>7</td>\n",
       "      <td>11</td>\n",
       "      <td>12</td>\n",
       "    </tr>\n",
       "    <tr>\n",
       "      <th>5</th>\n",
       "      <td>7</td>\n",
       "      <td>8</td>\n",
       "      <td>9</td>\n",
       "      <td>10</td>\n",
       "    </tr>\n",
       "    <tr>\n",
       "      <th>6</th>\n",
       "      <td>11</td>\n",
       "      <td>8</td>\n",
       "      <td>15</td>\n",
       "      <td>10</td>\n",
       "    </tr>\n",
       "    <tr>\n",
       "      <th>7</th>\n",
       "      <td>13</td>\n",
       "      <td>10</td>\n",
       "      <td>19</td>\n",
       "      <td>18</td>\n",
       "    </tr>\n",
       "    <tr>\n",
       "      <th>8</th>\n",
       "      <td>16</td>\n",
       "      <td>14</td>\n",
       "      <td>19</td>\n",
       "      <td>17</td>\n",
       "    </tr>\n",
       "    <tr>\n",
       "      <th>9</th>\n",
       "      <td>10</td>\n",
       "      <td>15</td>\n",
       "      <td>11</td>\n",
       "      <td>18</td>\n",
       "    </tr>\n",
       "    <tr>\n",
       "      <th>10</th>\n",
       "      <td>3</td>\n",
       "      <td>5</td>\n",
       "      <td>7</td>\n",
       "      <td>9</td>\n",
       "    </tr>\n",
       "  </tbody>\n",
       "</table>\n",
       "</div>"
      ],
      "text/plain": [
       "               x1   y1   x2   y2\n",
       "rectangle_id                    \n",
       "1               4   13    7   16\n",
       "2              10   13   13   16\n",
       "3               3   11   13   18\n",
       "4               6    7   11   12\n",
       "5               7    8    9   10\n",
       "6              11    8   15   10\n",
       "7              13   10   19   18\n",
       "8              16   14   19   17\n",
       "9              10   15   11   18\n",
       "10              3    5    7    9"
      ]
     },
     "execution_count": 5,
     "metadata": {},
     "output_type": "execute_result"
    }
   ],
   "source": [
    "parse_file('test_data.txt')"
   ]
  },
  {
   "cell_type": "code",
   "execution_count": 3,
   "metadata": {},
   "outputs": [
    {
     "ename": "ValueError",
     "evalue": "invalid literal for int() with base 10: '{{1'",
     "output_type": "error",
     "traceback": [
      "\u001b[0;31m---------------------------------------------------------------------------\u001b[0m",
      "\u001b[0;31mValueError\u001b[0m                                Traceback (most recent call last)",
      "Cell \u001b[0;32mIn[3], line 17\u001b[0m\n\u001b[1;32m     14\u001b[0m     plt\u001b[39m.\u001b[39mylim(\u001b[39m0\u001b[39m, \u001b[39m10\u001b[39m)\n\u001b[1;32m     15\u001b[0m     plt\u001b[39m.\u001b[39mshow()\n\u001b[0;32m---> 17\u001b[0m rectangles \u001b[39m=\u001b[39m read_rectangles(\u001b[39m\"\u001b[39;49m\u001b[39mtest_data.txt\u001b[39;49m\u001b[39m\"\u001b[39;49m)\n\u001b[1;32m     18\u001b[0m plot_rectangles(rectangles)\n",
      "Cell \u001b[0;32mIn[3], line 5\u001b[0m, in \u001b[0;36mread_rectangles\u001b[0;34m(filename)\u001b[0m\n\u001b[1;32m      3\u001b[0m \u001b[39mwith\u001b[39;00m \u001b[39mopen\u001b[39m(filename, \u001b[39m'\u001b[39m\u001b[39mr\u001b[39m\u001b[39m'\u001b[39m) \u001b[39mas\u001b[39;00m file:\n\u001b[1;32m      4\u001b[0m     \u001b[39mfor\u001b[39;00m line \u001b[39min\u001b[39;00m file:\n\u001b[0;32m----> 5\u001b[0m         rectangle_id, x1, y1, x2, y2 \u001b[39m=\u001b[39m \u001b[39mmap\u001b[39m(\u001b[39mint\u001b[39m, line\u001b[39m.\u001b[39mstrip()\u001b[39m.\u001b[39msplit(\u001b[39m'\u001b[39m\u001b[39m,\u001b[39m\u001b[39m'\u001b[39m))\n\u001b[1;32m      6\u001b[0m         rectangles\u001b[39m.\u001b[39mappend((rectangle_id, x1, y1, x2, y2))\n\u001b[1;32m      7\u001b[0m \u001b[39mreturn\u001b[39;00m rectangles\n",
      "\u001b[0;31mValueError\u001b[0m: invalid literal for int() with base 10: '{{1'"
     ]
    }
   ],
   "source": [
    "def read_rectangles(filename):\n",
    "    rectangles = []\n",
    "    with open(filename, 'r') as file:\n",
    "        for line in file:\n",
    "            rectangle_id, x1, y1, x2, y2 = map(int, line.strip().split(','))\n",
    "            rectangles.append((rectangle_id, x1, y1, x2, y2))\n",
    "    return rectangles\n",
    "\n",
    "def plot_rectangles(rectangles):\n",
    "    for rectangle in rectangles:\n",
    "        rectangle_id, x1, y1, x2, y2 = rectangle\n",
    "        plt.gca().add_patch(plt.Rectangle((x1, y1), x2 - x1, y2 - y1, fill=None))\n",
    "    plt.xlim(0, 10)\n",
    "    plt.ylim(0, 10)\n",
    "    plt.show()\n",
    "\n",
    "rectangles = read_rectangles(\"test_data.txt\")\n",
    "plot_rectangles(rectangles)\n"
   ]
  }
 ],
 "metadata": {
  "kernelspec": {
   "display_name": ".venv",
   "language": "python",
   "name": "python3"
  },
  "language_info": {
   "codemirror_mode": {
    "name": "ipython",
    "version": 3
   },
   "file_extension": ".py",
   "mimetype": "text/x-python",
   "name": "python",
   "nbconvert_exporter": "python",
   "pygments_lexer": "ipython3",
   "version": "3.9.14"
  },
  "orig_nbformat": 4,
  "vscode": {
   "interpreter": {
    "hash": "bc24794a0f400e9426646528aa5176aa55b218d6d2032b937ade046ce15701fe"
   }
  }
 },
 "nbformat": 4,
 "nbformat_minor": 2
}
