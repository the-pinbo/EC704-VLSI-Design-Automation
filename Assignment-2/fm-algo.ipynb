{
 "cells": [
  {
   "cell_type": "code",
   "execution_count": 1,
   "metadata": {},
   "outputs": [],
   "source": [
    "# to plot the rectangles\n",
    "import matplotlib.pyplot as plt\n",
    "# to parse the text file\n",
    "import re\n",
    "# to store the data as a dataframe\n",
    "import pandas as pd\n",
    "#  type hinting for the function\n",
    "from typing import Optional, List, Tuple, Set\n",
    "# default dictionary to store rectangles\n",
    "from collections import defaultdict\n",
    "\n",
    "import numpy as np\n",
    "import graphviz as gv\n",
    "import random \n",
    "import matplotlib.colors as mcolors\n",
    "from enum import Enum\n"
   ]
  },
  {
   "cell_type": "code",
   "execution_count": 2,
   "metadata": {},
   "outputs": [
    {
     "name": "stdout",
     "output_type": "stream",
     "text": [
      "Max gain value: 6\n",
      "Creating an AdjList\n",
      "Adj list: defaultdict(<class 'list'>, {0: [(1, 2), (2, 1)], 1: [(0, 2), (2, 3)], 2: [(0, 1), (1, 3), (3, 2)], 3: [(2, 2)]})\n",
      "Nodes:[0, 1, 2, 3]\n"
     ]
    }
   ],
   "source": [
    "adjM = np.array([[0,2,1,0], [2,0,3,0], [1,3,0,2],[0,0,2,0]])\n",
    "MAX_GAIN = np.max(np.sum(adjM, axis=1))\n",
    "print(f\"Max gain value: {MAX_GAIN}\")\n",
    "print(\"Creating an AdjList\")\n",
    "adjL = defaultdict(list)\n",
    "for i in range(adjM.shape[0]):\n",
    "    for j in range(i+1,adjM.shape[1]):\n",
    "        if adjM[i][j] > 0:\n",
    "            adjL[i].append((j,adjM[i][j]))\n",
    "            adjL[j].append((i,adjM[i][j]))\n",
    "print(f\"Adj list: {adjL}\")\n",
    "nodes = list(adjL.keys())\n",
    "print(f\"Nodes:{nodes}\")"
   ]
  },
  {
   "cell_type": "code",
   "execution_count": 3,
   "metadata": {},
   "outputs": [],
   "source": [
    "def random_partition(lst):\n",
    "    # TODO REMOVE SEED\n",
    "    random.seed(3)\n",
    "    random.shuffle(lst.copy())\n",
    "    midpoint = len(lst) // 2\n",
    "    return set(lst[:midpoint]), set(lst[midpoint:])\n",
    "\n",
    "def in_same_set(u,v,a,b):\n",
    "    return u in a and v in a or u in b and v in b"
   ]
  },
  {
   "cell_type": "code",
   "execution_count": 4,
   "metadata": {},
   "outputs": [
    {
     "name": "stdout",
     "output_type": "stream",
     "text": [
      "Partitioning the nodes into two sets.\n",
      "a->{0, 1}\n",
      "b->{2, 3}\n"
     ]
    }
   ],
   "source": [
    "a,b = random_partition(nodes)\n",
    "print(f\"Partitioning the nodes into two sets.\\na->{a}\\nb->{b}\")"
   ]
  },
  {
   "cell_type": "code",
   "execution_count": 5,
   "metadata": {},
   "outputs": [
    {
     "name": "stdout",
     "output_type": "stream",
     "text": [
      "Initial gain: defaultdict(<class 'int'>, {0: -1, 1: 1, 2: 2, 3: -2})\n",
      "Initial cut size: 4\n",
      "Initial bucket_a: [set(), {1}, set(), set(), set(), set(), set(), set(), set(), set(), set(), set(), {0}]\n",
      "Initial bucket_b: [set(), set(), {2}, set(), set(), set(), set(), set(), set(), set(), set(), {3}, set()]\n"
     ]
    }
   ],
   "source": [
    "gain = defaultdict(int)\n",
    "cut_size = 0\n",
    "bucket_a = [set() for _ in range(2*MAX_GAIN+1)]\n",
    "bucket_b = [set() for _ in range(2*MAX_GAIN+1)]\n",
    "for u in adjL:    \n",
    "    for v,w in adjL[u]:\n",
    "        if in_same_set(u,v,a,b):\n",
    "            gain[u] -= w\n",
    "        else:\n",
    "            gain[u] += w\n",
    "            cut_size += 1\n",
    "    if u in a:\n",
    "        bucket_a[gain[u]].add(u)\n",
    "    else:\n",
    "        bucket_b[gain[u]].add(u)\n",
    "print(f\"Initial gain: {gain}\")\n",
    "print(f\"Initial cut size: {cut_size}\")\n",
    "print(f\"Initial bucket_a: {bucket_a}\")\n",
    "print(f\"Initial bucket_b: {bucket_b}\")\n"
   ]
  },
  {
   "cell_type": "code",
   "execution_count": 6,
   "metadata": {},
   "outputs": [
    {
     "data": {
      "text/plain": [
       "{0: 10, 1: 20, 2: 5, 3: 15}"
      ]
     },
     "execution_count": 6,
     "metadata": {},
     "output_type": "execute_result"
    }
   ],
   "source": [
    "# TODO REMOVE THE AREA DICT \n",
    "area_dict = {0: 10, 1: 20, 2: 5, 3: 15}\n",
    "area_dict"
   ]
  },
  {
   "cell_type": "code",
   "execution_count": 7,
   "metadata": {},
   "outputs": [
    {
     "name": "stdout",
     "output_type": "stream",
     "text": [
      "Initial size_a: 30\n",
      "Initial size_b: 20\n"
     ]
    }
   ],
   "source": [
    "size_a = sum([area_dict[u] for u in a])\n",
    "size_b = sum([area_dict[u] for u in b])\n",
    "print(f\"Initial size_a: {size_a}\")\n",
    "print(f\"Initial size_b: {size_b}\")"
   ]
  },
  {
   "cell_type": "code",
   "execution_count": 8,
   "metadata": {},
   "outputs": [],
   "source": [
    "def get_compliment_set(partition_set):\n",
    "    return 'b' if partition_set == 'a' else 'a'"
   ]
  },
  {
   "cell_type": "code",
   "execution_count": 9,
   "metadata": {},
   "outputs": [],
   "source": [
    "def find_maximum_gain():\n",
    "    min_set = 'a' if size_a < size_b else 'b'\n",
    "    size_min_set = eval(f'size_{min_set}')\n",
    "    r = size_min_set/(size_a+size_b)\n",
    "    print(f\"ratio: {r}\")\n",
    "    if abs(r-0.5) <= 0.01:\n",
    "        for g in range(MAX_GAIN,-MAX_GAIN-1,-1):\n",
    "            if bucket_a[g]:\n",
    "                return bucket_a[g], 'a'\n",
    "            if bucket_b[g]:\n",
    "                return bucket_b[g], 'b'\n",
    "    else:\n",
    "        compliment_set = get_compliment_set(min_set)\n",
    "        bucket = eval(f\"bucket_{compliment_set}\")\n",
    "        for g in range(MAX_GAIN,-MAX_GAIN-1,-1):\n",
    "            if bucket[g]:\n",
    "                return bucket[g],compliment_set\n"
   ]
  },
  {
   "cell_type": "code",
   "execution_count": 10,
   "metadata": {},
   "outputs": [
    {
     "name": "stdout",
     "output_type": "stream",
     "text": [
      "ratio: 0.4\n",
      "max_gain_set: {1}\n",
      "max_gain_set_name: a\n",
      "u: 1\n"
     ]
    }
   ],
   "source": [
    "max_gain_set, max_gain_set_name = find_maximum_gain()\n",
    "print(f\"max_gain_set: {max_gain_set}\")\n",
    "print(f\"max_gain_set_name: {max_gain_set_name}\")\n",
    "u = max_gain_set.pop()\n",
    "print(f\"u: {u}\")\n"
   ]
  },
  {
   "cell_type": "code",
   "execution_count": 11,
   "metadata": {},
   "outputs": [
    {
     "data": {
      "text/plain": [
       "[(None, 4)]"
      ]
     },
     "execution_count": 11,
     "metadata": {},
     "output_type": "execute_result"
    }
   ],
   "source": [
    "locked_cells = [(None,cut_size)]\n",
    "locked_cells"
   ]
  },
  {
   "cell_type": "code",
   "execution_count": 12,
   "metadata": {},
   "outputs": [
    {
     "name": "stdout",
     "output_type": "stream",
     "text": [
      "old_cell_set: {0}\n",
      "new_cell_set: {1, 2, 3}\n",
      "locked_cells: [(None, 4), (1, 2)]\n",
      "gain: defaultdict(<class 'int'>, {0: 3, 2: -4, 3: -2})\n",
      "bucket_a: [set(), set(), set(), {0}, set(), set(), set(), set(), set(), set(), set(), set(), set()]\n",
      "bucket_b: [set(), set(), set(), set(), set(), set(), set(), set(), set(), {2}, set(), {3}, set()]\n"
     ]
    }
   ],
   "source": [
    "for v,w in adjL[u]:\n",
    "    old_bucket = eval(f'bucket_{max_gain_set_name}')\n",
    "    new_bucket = eval(f'bucket_{get_compliment_set(max_gain_set_name)}')\n",
    "    if in_same_set(u,v,a,b):\n",
    "        old_bucket[gain[v]].remove(v)\n",
    "        gain[v] += 2*w\n",
    "        old_bucket[gain[v]].add(v)\n",
    "    else:\n",
    "        new_bucket[gain[v]].remove(v)\n",
    "        gain[v] -= 2*w\n",
    "        new_bucket[gain[v]].add(v)\n",
    "\n",
    "new_cut_set = cut_size - 2*gain[u]\n",
    "gain.pop(u)\n",
    "locked_cells.append((u,new_cut_set))\n",
    "old_cell_set = eval(f'{max_gain_set_name}')\n",
    "new_cell_set = eval(f'{get_compliment_set(max_gain_set_name)}')\n",
    "old_cell_set.remove(u)\n",
    "new_cell_set.add(u)\n",
    "print(f\"old_cell_set: {old_cell_set}\")\n",
    "print(f\"new_cell_set: {new_cell_set}\")\n",
    "print(f\"locked_cells: {locked_cells}\")\n",
    "print(f\"gain: {gain}\")\n",
    "print(f\"bucket_a: {bucket_a}\")\n",
    "print(f\"bucket_b: {bucket_b}\")\n"
   ]
  },
  {
   "cell_type": "code",
   "execution_count": null,
   "metadata": {},
   "outputs": [],
   "source": []
  },
  {
   "cell_type": "code",
   "execution_count": null,
   "metadata": {},
   "outputs": [],
   "source": []
  }
 ],
 "metadata": {
  "kernelspec": {
   "display_name": ".venv",
   "language": "python",
   "name": "python3"
  },
  "language_info": {
   "codemirror_mode": {
    "name": "ipython",
    "version": 3
   },
   "file_extension": ".py",
   "mimetype": "text/x-python",
   "name": "python",
   "nbconvert_exporter": "python",
   "pygments_lexer": "ipython3",
   "version": "3.9.14"
  },
  "orig_nbformat": 4,
  "vscode": {
   "interpreter": {
    "hash": "1726d8e195a82ba52d0cf777a6c550185c5b15aae9089c1f6dd83b666a9d3a13"
   }
  }
 },
 "nbformat": 4,
 "nbformat_minor": 2
}
