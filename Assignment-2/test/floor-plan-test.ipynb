{
 "cells": [
  {
   "cell_type": "code",
   "execution_count": 1,
   "metadata": {},
   "outputs": [],
   "source": [
    "# to plot the rectangles\n",
    "import matplotlib.pyplot as plt\n",
    "# to parse the text file\n",
    "import re\n",
    "# to store the data as a dataframe\n",
    "import pandas as pd\n",
    "#  type hinting for the function\n",
    "from typing import Optional, List, Tuple, Set\n",
    "# default dictionary to store rectangles\n",
    "from collections import defaultdict\n",
    "\n",
    "import numpy as np\n",
    "import graphviz as gv\n",
    "import random \n",
    "import matplotlib.colors as mcolors\n",
    "from enum import Enum\n"
   ]
  },
  {
   "cell_type": "code",
   "execution_count": 2,
   "metadata": {},
   "outputs": [],
   "source": [
    "input1 = './input_1.txt'\n",
    "input2 = './input_2.txt'"
   ]
  },
  {
   "cell_type": "code",
   "execution_count": 3,
   "metadata": {},
   "outputs": [],
   "source": [
    "class FloorPlan:\n",
    "    class Block:\n",
    "        def __init__(self,block_id: int, width: int, height: int, label: str = None):\n",
    "            self.label = label or f'block_{block_id}'\n",
    "            self.block_id = block_id\n",
    "            self.width = width\n",
    "            self.height = height\n",
    "\n",
    "        def __str__(self):\n",
    "            return f'label: {self.label}, width: {self.width}, height: {self.height}, idx: {self.block_id}'\n",
    "        \n",
    "        def __repr__(self):\n",
    "            return self.__str__()\n",
    "\n",
    "    def __init__(self,input1,input2):\n",
    "        with open(input1, 'r') as file:\n",
    "            input1_data = file.read()\n",
    "\n",
    "        with open(input2, 'r') as file:\n",
    "            input2_data = file.read()\n",
    "        \n",
    "        input1_data = eval(input1_data.replace(' ', '').replace('\\n', '').replace('{', '(').replace('}', ')'))\n",
    "        self.adjM = np.array([eval('['+row.strip().replace(' ', ',')+']')for row in input2_data.strip()[1:-1].split('\\n')])\n",
    "        \n",
    "        self.num_blocks = input1_data[0]\n",
    "        self.blocks = [FloorPlan.Block(idx, width, height) for idx, (width, height) in enumerate(input1_data[1:])]\n",
    "\n",
    "    def __repr__(self):\n",
    "        return f'num_blocks: {self.num_blocks}, blocks: {self.blocks}'\n",
    "    \n",
    "    def __str__(self):\n",
    "        return f'num_blocks: {self.num_blocks}, blocks: {self.blocks}'\n",
    "    \n",
    "    @staticmethod\n",
    "    def get_color(block_id):\n",
    "        # Create a random color based on the block_id\n",
    "        random.seed(block_id)\n",
    "        r, g, b = random.random(), random.random(), random.random()\n",
    "        color_str = mcolors.rgb2hex((r, g, b))\n",
    "        return color_str\n",
    "    \n",
    "    def plot_floor_plan(self):\n",
    "        graph = gv.Graph(node_attr={'shape': 'rectangle'})\n",
    "        # adding nodes\n",
    "        for block in self.blocks:\n",
    "            color = self.get_color(block.block_id)\n",
    "            graph.node(block.label, f'{block.label}\\n{block.width}x{block.height}', width=f'{block.width//5}', height=f'{block.height//5}', color=color)\n",
    "        # adding edges\n",
    "        for i in range(self.num_blocks):\n",
    "            for j in range(i+1,self.num_blocks):\n",
    "                wires_count = self.adjM[i][j]\n",
    "                color = self.get_color(i)\n",
    "                graph.edge(self.blocks[i].label,self.blocks[j].label, color=color,label=f'{wires_count}')\n",
    "        return graph\n",
    "        "
   ]
  },
  {
   "cell_type": "code",
   "execution_count": 4,
   "metadata": {},
   "outputs": [
    {
     "data": {
      "text/plain": [
       "num_blocks: 6, blocks: [label: block_0, width: 10, height: 5, idx: 0, label: block_1, width: 8, height: 6, idx: 1, label: block_2, width: 4, height: 13, idx: 2, label: block_3, width: 10, height: 3, idx: 3, label: block_4, width: 8, height: 4, idx: 4, label: block_5, width: 4, height: 1, idx: 5]"
      ]
     },
     "execution_count": 4,
     "metadata": {},
     "output_type": "execute_result"
    }
   ],
   "source": [
    "fp = FloorPlan(input1,input2)\n",
    "fp"
   ]
  },
  {
   "cell_type": "code",
   "execution_count": 5,
   "metadata": {},
   "outputs": [
    {
     "data": {
      "text/plain": [
       "array([[0, 1, 3, 2, 4, 2],\n",
       "       [1, 0, 3, 1, 2, 1],\n",
       "       [3, 3, 0, 1, 1, 2],\n",
       "       [2, 1, 1, 0, 2, 3],\n",
       "       [4, 2, 1, 2, 0, 1],\n",
       "       [2, 1, 2, 3, 1, 0]])"
      ]
     },
     "execution_count": 5,
     "metadata": {},
     "output_type": "execute_result"
    }
   ],
   "source": [
    "fp.adjM"
   ]
  },
  {
   "cell_type": "code",
   "execution_count": 18,
   "metadata": {},
   "outputs": [
    {
     "data": {
      "text/plain": [
       "(6, (10, 5), (8, 6), (4, 13), (10, 3), (8, 4), (4, 1))"
      ]
     },
     "execution_count": 18,
     "metadata": {},
     "output_type": "execute_result"
    }
   ],
   "source": [
    "with open(input1, 'r') as file:\n",
    "    input1_data = file.read()\n",
    "input1_data = eval(input1_data.replace(' ', '').replace('\\n', '').replace('{', '(').replace('}', ')'))\n",
    "input1_data"
   ]
  },
  {
   "cell_type": "code",
   "execution_count": 19,
   "metadata": {},
   "outputs": [
    {
     "data": {
      "text/plain": [
       "{0: 50, 1: 48, 2: 52, 3: 30, 4: 32, 5: 4}"
      ]
     },
     "execution_count": 19,
     "metadata": {},
     "output_type": "execute_result"
    }
   ],
   "source": [
    "area_dict = {idx:width*height for idx, (width, height) in enumerate(input_data1[1:])}\n",
    "area_dict"
   ]
  },
  {
   "cell_type": "code",
   "execution_count": 5,
   "metadata": {},
   "outputs": [
    {
     "data": {
      "image/svg+xml": "<?xml version=\"1.0\" encoding=\"UTF-8\" standalone=\"no\"?>\n<!DOCTYPE svg PUBLIC \"-//W3C//DTD SVG 1.1//EN\"\n \"http://www.w3.org/Graphics/SVG/1.1/DTD/svg11.dtd\">\n<!-- Generated by graphviz version 2.44.0 (0)\n -->\n<!-- Pages: 1 -->\n<svg width=\"388pt\" height=\"665pt\"\n viewBox=\"0.00 0.00 387.93 665.00\" xmlns=\"http://www.w3.org/2000/svg\" xmlns:xlink=\"http://www.w3.org/1999/xlink\">\n<g id=\"graph0\" class=\"graph\" transform=\"scale(1 1) rotate(0) translate(4 661)\">\n<polygon fill=\"white\" stroke=\"transparent\" points=\"-4,4 -4,-661 383.93,-661 383.93,4 -4,4\"/>\n<!-- block_0 -->\n<g id=\"node1\" class=\"node\">\n<title>block_0</title>\n<polygon fill=\"none\" stroke=\"#d7c16b\" points=\"208.93,-657 64.93,-657 64.93,-585 208.93,-585 208.93,-657\"/>\n<text text-anchor=\"middle\" x=\"136.93\" y=\"-624.8\" font-family=\"Times-Roman\" font-size=\"14.00\">block_0</text>\n<text text-anchor=\"middle\" x=\"136.93\" y=\"-609.8\" font-family=\"Times-Roman\" font-size=\"14.00\">10x5</text>\n</g>\n<!-- block_1 -->\n<g id=\"node2\" class=\"node\">\n<title>block_1</title>\n<polygon fill=\"none\" stroke=\"#22d8c3\" points=\"250.93,-534 178.93,-534 178.93,-462 250.93,-462 250.93,-534\"/>\n<text text-anchor=\"middle\" x=\"214.93\" y=\"-501.8\" font-family=\"Times-Roman\" font-size=\"14.00\">block_1</text>\n<text text-anchor=\"middle\" x=\"214.93\" y=\"-486.8\" font-family=\"Times-Roman\" font-size=\"14.00\">8x6</text>\n</g>\n<!-- block_0&#45;&#45;block_1 -->\n<g id=\"edge1\" class=\"edge\">\n<title>block_0&#45;&#45;block_1</title>\n<path fill=\"none\" stroke=\"#d7c16b\" d=\"M159.7,-584.68C169.95,-568.77 182.03,-550.04 192.27,-534.16\"/>\n<text text-anchor=\"middle\" x=\"184.93\" y=\"-555.8\" font-family=\"Times-Roman\" font-size=\"14.00\">1</text>\n</g>\n<!-- block_2 -->\n<g id=\"node3\" class=\"node\">\n<title>block_2</title>\n<polygon fill=\"none\" stroke=\"#f4f20e\" points=\"249.43,-411 180.43,-411 180.43,-267 249.43,-267 249.43,-411\"/>\n<text text-anchor=\"middle\" x=\"214.93\" y=\"-342.8\" font-family=\"Times-Roman\" font-size=\"14.00\">block_2</text>\n<text text-anchor=\"middle\" x=\"214.93\" y=\"-327.8\" font-family=\"Times-Roman\" font-size=\"14.00\">4x13</text>\n</g>\n<!-- block_0&#45;&#45;block_2 -->\n<g id=\"edge2\" class=\"edge\">\n<title>block_0&#45;&#45;block_2</title>\n<path fill=\"none\" stroke=\"#d7c16b\" d=\"M139.22,-584.88C142,-552.47 147.89,-503.24 159.93,-462 165.21,-443.94 172.65,-425.09 180.36,-407.76\"/>\n<text text-anchor=\"middle\" x=\"164.93\" y=\"-494.3\" font-family=\"Times-Roman\" font-size=\"14.00\">3</text>\n</g>\n<!-- block_3 -->\n<g id=\"node4\" class=\"node\">\n<title>block_3</title>\n<polygon fill=\"none\" stroke=\"#3d8b5e\" points=\"173.93,-216 29.93,-216 29.93,-178 173.93,-178 173.93,-216\"/>\n<text text-anchor=\"middle\" x=\"101.93\" y=\"-200.8\" font-family=\"Times-Roman\" font-size=\"14.00\">block_3</text>\n<text text-anchor=\"middle\" x=\"101.93\" y=\"-185.8\" font-family=\"Times-Roman\" font-size=\"14.00\">10x3</text>\n</g>\n<!-- block_0&#45;&#45;block_3 -->\n<g id=\"edge3\" class=\"edge\">\n<title>block_0&#45;&#45;block_3</title>\n<path fill=\"none\" stroke=\"#d7c16b\" d=\"M132.22,-584.94C126.82,-543.47 118.03,-472.33 112.93,-411 106.95,-339.04 103.7,-253.12 102.49,-216.26\"/>\n<text text-anchor=\"middle\" x=\"120.93\" y=\"-432.8\" font-family=\"Times-Roman\" font-size=\"14.00\">2</text>\n</g>\n<!-- block_4 -->\n<g id=\"node5\" class=\"node\">\n<title>block_4</title>\n<polygon fill=\"none\" stroke=\"#3c1a65\" points=\"219.93,-127 147.93,-127 147.93,-89 219.93,-89 219.93,-127\"/>\n<text text-anchor=\"middle\" x=\"183.93\" y=\"-111.8\" font-family=\"Times-Roman\" font-size=\"14.00\">block_4</text>\n<text text-anchor=\"middle\" x=\"183.93\" y=\"-96.8\" font-family=\"Times-Roman\" font-size=\"14.00\">8x4</text>\n</g>\n<!-- block_0&#45;&#45;block_4 -->\n<g id=\"edge4\" class=\"edge\">\n<title>block_0&#45;&#45;block_4</title>\n<path fill=\"none\" stroke=\"#d7c16b\" d=\"M64.69,-586.81C32.59,-566.68 1.93,-537.4 1.93,-499 1.93,-499 1.93,-499 1.93,-196 1.93,-160.36 -27.21,-199.9 142.93,-127 144.5,-126.33 146.11,-125.64 147.73,-124.94\"/>\n<text text-anchor=\"middle\" x=\"6.93\" y=\"-335.3\" font-family=\"Times-Roman\" font-size=\"14.00\">4</text>\n</g>\n<!-- block_5 -->\n<g id=\"node6\" class=\"node\">\n<title>block_5</title>\n<polygon fill=\"none\" stroke=\"#9fbdcb\" points=\"282.43,-38 213.43,-38 213.43,0 282.43,0 282.43,-38\"/>\n<text text-anchor=\"middle\" x=\"247.93\" y=\"-22.8\" font-family=\"Times-Roman\" font-size=\"14.00\">block_5</text>\n<text text-anchor=\"middle\" x=\"247.93\" y=\"-7.8\" font-family=\"Times-Roman\" font-size=\"14.00\">4x1</text>\n</g>\n<!-- block_0&#45;&#45;block_5 -->\n<g id=\"edge5\" class=\"edge\">\n<title>block_0&#45;&#45;block_5</title>\n<path fill=\"none\" stroke=\"#d7c16b\" d=\"M209.06,-612.75C277.49,-601.41 369.93,-572.5 369.93,-499 369.93,-499 369.93,-499 369.93,-107 369.93,-63.82 318.63,-40.06 282.57,-28.69\"/>\n<text text-anchor=\"middle\" x=\"374.93\" y=\"-237.8\" font-family=\"Times-Roman\" font-size=\"14.00\">2</text>\n</g>\n<!-- block_1&#45;&#45;block_2 -->\n<g id=\"edge6\" class=\"edge\">\n<title>block_1&#45;&#45;block_2</title>\n<path fill=\"none\" stroke=\"#22d8c3\" d=\"M214.93,-461.77C214.93,-446.76 214.93,-428.68 214.93,-411.11\"/>\n<text text-anchor=\"middle\" x=\"219.93\" y=\"-432.8\" font-family=\"Times-Roman\" font-size=\"14.00\">3</text>\n</g>\n<!-- block_1&#45;&#45;block_3 -->\n<g id=\"edge7\" class=\"edge\">\n<title>block_1&#45;&#45;block_3</title>\n<path fill=\"none\" stroke=\"#22d8c3\" d=\"M190.17,-461.81C180.36,-446.7 169.61,-428.51 161.93,-411 131.68,-342.04 112.58,-253.82 105.29,-216.25\"/>\n<text text-anchor=\"middle\" x=\"166.93\" y=\"-335.3\" font-family=\"Times-Roman\" font-size=\"14.00\">1</text>\n</g>\n<!-- block_1&#45;&#45;block_4 -->\n<g id=\"edge8\" class=\"edge\">\n<title>block_1&#45;&#45;block_4</title>\n<path fill=\"none\" stroke=\"#22d8c3\" d=\"M237.63,-461.62C246.01,-446.62 254.53,-428.57 258.93,-411 287.69,-296.32 325.65,-244.59 261.93,-145 252.61,-130.43 235.72,-121.67 220.03,-116.45\"/>\n<text text-anchor=\"middle\" x=\"300.93\" y=\"-237.8\" font-family=\"Times-Roman\" font-size=\"14.00\">2</text>\n</g>\n<!-- block_1&#45;&#45;block_5 -->\n<g id=\"edge9\" class=\"edge\">\n<title>block_1&#45;&#45;block_5</title>\n<path fill=\"none\" stroke=\"#22d8c3\" d=\"M250.99,-471.06C285.37,-443.01 331.93,-394.9 331.93,-340 331.93,-340 331.93,-340 331.93,-107 331.93,-76.77 305.35,-53.02 282.1,-38.03\"/>\n<text text-anchor=\"middle\" x=\"336.93\" y=\"-193.3\" font-family=\"Times-Roman\" font-size=\"14.00\">1</text>\n</g>\n<!-- block_2&#45;&#45;block_3 -->\n<g id=\"edge10\" class=\"edge\">\n<title>block_2&#45;&#45;block_3</title>\n<path fill=\"none\" stroke=\"#f4f20e\" d=\"M186.23,-266.73C179.64,-255.02 171.88,-243.59 162.93,-234 156.47,-227.08 148.38,-221.06 140.22,-216.03\"/>\n<text text-anchor=\"middle\" x=\"178.93\" y=\"-237.8\" font-family=\"Times-Roman\" font-size=\"14.00\">1</text>\n</g>\n<!-- block_2&#45;&#45;block_4 -->\n<g id=\"edge11\" class=\"edge\">\n<title>block_2&#45;&#45;block_4</title>\n<path fill=\"none\" stroke=\"#f4f20e\" d=\"M205.29,-266.8C198.72,-218.22 190.49,-157.44 186.43,-127.47\"/>\n<text text-anchor=\"middle\" x=\"202.93\" y=\"-193.3\" font-family=\"Times-Roman\" font-size=\"14.00\">1</text>\n</g>\n<!-- block_2&#45;&#45;block_5 -->\n<g id=\"edge12\" class=\"edge\">\n<title>block_2&#45;&#45;block_5</title>\n<path fill=\"none\" stroke=\"#f4f20e\" d=\"M222.34,-266.63C230.03,-192.47 241.57,-81.32 246.05,-38.1\"/>\n<text text-anchor=\"middle\" x=\"238.93\" y=\"-148.8\" font-family=\"Times-Roman\" font-size=\"14.00\">2</text>\n</g>\n<!-- block_3&#45;&#45;block_4 -->\n<g id=\"edge13\" class=\"edge\">\n<title>block_3&#45;&#45;block_4</title>\n<path fill=\"none\" stroke=\"#3d8b5e\" d=\"M118.92,-177.97C133,-163.04 152.9,-141.93 166.96,-127\"/>\n<text text-anchor=\"middle\" x=\"151.93\" y=\"-148.8\" font-family=\"Times-Roman\" font-size=\"14.00\">2</text>\n</g>\n<!-- block_3&#45;&#45;block_5 -->\n<g id=\"edge14\" class=\"edge\">\n<title>block_3&#45;&#45;block_5</title>\n<path fill=\"none\" stroke=\"#3d8b5e\" d=\"M102.31,-177.9C103.66,-155.02 108.97,-115.46 128.93,-89 150.14,-60.88 186.42,-42.26 213.35,-31.52\"/>\n<text text-anchor=\"middle\" x=\"133.93\" y=\"-104.3\" font-family=\"Times-Roman\" font-size=\"14.00\">3</text>\n</g>\n<!-- block_4&#45;&#45;block_5 -->\n<g id=\"edge15\" class=\"edge\">\n<title>block_4&#45;&#45;block_5</title>\n<path fill=\"none\" stroke=\"#3c1a65\" d=\"M197.19,-88.97C208.18,-74.04 223.71,-52.93 234.69,-38\"/>\n<text text-anchor=\"middle\" x=\"223.93\" y=\"-59.8\" font-family=\"Times-Roman\" font-size=\"14.00\">1</text>\n</g>\n</g>\n</svg>\n",
      "text/plain": [
       "<graphviz.graphs.Graph at 0x7fc7b8d472b0>"
      ]
     },
     "execution_count": 5,
     "metadata": {},
     "output_type": "execute_result"
    }
   ],
   "source": [
    "fp.plot_floor_plan()"
   ]
  },
  {
   "cell_type": "code",
   "execution_count": 6,
   "metadata": {},
   "outputs": [],
   "source": [
    "class PartitionSet(Enum):\n",
    "    SET_A = 0\n",
    "    SET_B = -1\n",
    "    def invert(self):\n",
    "        self = PartitionSet(~self.value)\n",
    "        return self\n"
   ]
  },
  {
   "cell_type": "code",
   "execution_count": 7,
   "metadata": {},
   "outputs": [],
   "source": [
    "class Net:\n",
    "    def __init__(self,u: int, v: int, w: int):\n",
    "        self.u ,self.v = min(u,v), max(u,v)\n",
    "        self.w = w\n",
    "        self.cell_list = list()\n",
    "        self.a_size = None\n",
    "        self.b_size = None"
   ]
  },
  {
   "cell_type": "code",
   "execution_count": 8,
   "metadata": {},
   "outputs": [],
   "source": [
    "class Cell:\n",
    "    def __init__(self, block: FloorPlan.Block):\n",
    "        self.area = block.width*block.height\n",
    "        self.external_nets = None\n",
    "        self.internal_nets = None\n",
    "        self.gain = None\n",
    "        self.locked = False\n",
    "        self.cell_partition = None\n",
    "        self.adjacent_cells = None\n",
    "        self.net_list = list()\n",
    "\n",
    "        \n"
   ]
  },
  {
   "cell_type": "code",
   "execution_count": 9,
   "metadata": {},
   "outputs": [
    {
     "data": {
      "text/plain": [
       "6"
      ]
     },
     "execution_count": 9,
     "metadata": {},
     "output_type": "execute_result"
    }
   ],
   "source": [
    "adjM = np.array([[0,2,1,0], [2,0,3,0], [1,3,0,2],[0,0,2,0]])\n",
    "MAX_GAIN = np.max(np.sum(adjM, axis=1))\n",
    "MAX_GAIN"
   ]
  },
  {
   "cell_type": "code",
   "execution_count": 10,
   "metadata": {},
   "outputs": [
    {
     "data": {
      "text/plain": [
       "defaultdict(list,\n",
       "            {0: [(1, 2), (2, 1)],\n",
       "             1: [(0, 2), (2, 3)],\n",
       "             2: [(0, 1), (1, 3), (3, 2)],\n",
       "             3: [(2, 2)]})"
      ]
     },
     "execution_count": 10,
     "metadata": {},
     "output_type": "execute_result"
    }
   ],
   "source": [
    "adjL = defaultdict(list)\n",
    "for i in range(adjM.shape[0]):\n",
    "    for j in range(i+1,adjM.shape[1]):\n",
    "        if adjM[i][j] > 0:\n",
    "            adjL[i].append((j,adjM[i][j]))\n",
    "            adjL[j].append((i,adjM[i][j]))\n",
    "adjL"
   ]
  },
  {
   "cell_type": "code",
   "execution_count": 11,
   "metadata": {},
   "outputs": [
    {
     "data": {
      "text/plain": [
       "[0, 1, 2, 3]"
      ]
     },
     "execution_count": 11,
     "metadata": {},
     "output_type": "execute_result"
    }
   ],
   "source": [
    "nodes = list(adjL.keys())\n",
    "nodes"
   ]
  },
  {
   "cell_type": "code",
   "execution_count": 12,
   "metadata": {},
   "outputs": [],
   "source": [
    "def random_partition(lst):\n",
    "    random.seed(3)\n",
    "    random.shuffle(lst.copy())\n",
    "    midpoint = len(lst) // 2\n",
    "    return set(lst[:midpoint]), set(lst[midpoint:])"
   ]
  },
  {
   "cell_type": "code",
   "execution_count": 13,
   "metadata": {},
   "outputs": [
    {
     "data": {
      "text/plain": [
       "({0, 1}, {2, 3})"
      ]
     },
     "execution_count": 13,
     "metadata": {},
     "output_type": "execute_result"
    }
   ],
   "source": [
    "a,b = random_partition(nodes)\n",
    "a,b"
   ]
  },
  {
   "cell_type": "code",
   "execution_count": 14,
   "metadata": {},
   "outputs": [],
   "source": [
    "def in_same_set(u,v,a,b):\n",
    "    return u in a and v in a or u in b and v in b"
   ]
  },
  {
   "cell_type": "code",
   "execution_count": 15,
   "metadata": {},
   "outputs": [],
   "source": [
    "gain = defaultdict(int)\n",
    "cut_size = 0\n",
    "bucket_a = [[] for _ in range(2*MAX_GAIN+1)]\n",
    "bucket_b = [[] for _ in range(2*MAX_GAIN+1)]\n",
    "for u in adjL:    \n",
    "    for v,w in adjL[u]:\n",
    "        if in_same_set(u,v,a,b):\n",
    "            gain[u] -= w\n",
    "        else:\n",
    "            gain[u] += w\n",
    "            cut_size += 1\n",
    "    if u in a:\n",
    "        bucket_a[gain[u]].append(u)\n",
    "    else:\n",
    "        bucket_b[gain[u]].append(u)"
   ]
  },
  {
   "cell_type": "code",
   "execution_count": 8,
   "metadata": {},
   "outputs": [],
   "source": [
    "adjM = np.array([[0, 1, 3, 2, 4, 2],\n",
    "                     [1, 0, 3, 1, 2, 1],\n",
    "                     [3, 3, 0, 1, 1, 2],\n",
    "                     [2, 1, 1, 0, 2, 3],\n",
    "                     [4, 2, 1, 2, 0, 1],\n",
    "                     [2, 1, 2, 3, 1, 0]])"
   ]
  },
  {
   "cell_type": "code",
   "execution_count": 12,
   "metadata": {},
   "outputs": [
    {
     "data": {
      "text/plain": [
       "numpy.int64"
      ]
     },
     "execution_count": 12,
     "metadata": {},
     "output_type": "execute_result"
    }
   ],
   "source": [
    "type(adjM[0][0])"
   ]
  },
  {
   "cell_type": "code",
   "execution_count": null,
   "metadata": {},
   "outputs": [],
   "source": [
    "def get_max_gain(bucket_a,bucket_b,a,b):\n",
    "\n",
    "    if len(a) == len(b):\n",
    "    \n",
    "    max_gain = (-(MAX_GAIN+1),None)\n",
    "    for cells in bucket:\n",
    "        if cells:\n",
    "            \n"
   ]
  },
  {
   "cell_type": "code",
   "execution_count": 33,
   "metadata": {},
   "outputs": [
    {
     "data": {
      "text/plain": [
       "((-3, 0), (-3, 0))"
      ]
     },
     "execution_count": 33,
     "metadata": {},
     "output_type": "execute_result"
    }
   ],
   "source": [
    "max_gain_a = (-(MAX_GAIN+1),None)\n",
    "max_gain_b = (-(MAX_GAIN+1),None)\n",
    "\n",
    "for u,g in enumerate(max_gain_a):\n",
    "    if g:\n",
    "         max_gain_a = max(max_gain_a,(gain[u],u)) \n",
    "for u,g in enumerate(max_gain_b):\n",
    "     if g:\n",
    "        max_gain_b = max(max_gain_b,(gain[u],u))      \n",
    "\n",
    "max_gain_a,max_gain_b  \n",
    "          "
   ]
  },
  {
   "cell_type": "code",
   "execution_count": 16,
   "metadata": {},
   "outputs": [
    {
     "data": {
      "text/plain": [
       "4"
      ]
     },
     "execution_count": 16,
     "metadata": {},
     "output_type": "execute_result"
    }
   ],
   "source": [
    "cut_size"
   ]
  },
  {
   "cell_type": "code",
   "execution_count": 17,
   "metadata": {},
   "outputs": [
    {
     "data": {
      "text/plain": [
       "defaultdict(int, {0: -1, 1: 1, 2: 2, 3: -2})"
      ]
     },
     "execution_count": 17,
     "metadata": {},
     "output_type": "execute_result"
    }
   ],
   "source": [
    "gain"
   ]
  },
  {
   "cell_type": "code",
   "execution_count": 18,
   "metadata": {},
   "outputs": [
    {
     "data": {
      "text/plain": [
       "([[], [1], [], [], [], [], [], [], [], [], [], [], [0]],\n",
       " [[], [], [2], [], [], [], [], [], [], [], [], [3], []])"
      ]
     },
     "execution_count": 18,
     "metadata": {},
     "output_type": "execute_result"
    }
   ],
   "source": [
    "bucket_a,bucket_b"
   ]
  },
  {
   "cell_type": "code",
   "execution_count": 19,
   "metadata": {},
   "outputs": [],
   "source": [
    "\n",
    "def get_max_element(max_heap_a, max_heap_b):\n",
    "    if len(max_heap_a) == len(max_heap_b) and len(max_heap_a)>0:\n",
    "        max_element_a = (-max_heap_a[0][0],max_heap_a[0][1],'a')\n",
    "        max_element_b = (-max_heap_b[0][0],max_heap_b[0][1],'b') \n",
    "        return max(max_element_a, max_element_b)\n",
    "    elif max_heap_a and len(max_heap_a) > len(max_heap_b):\n",
    "        return (-max_heap_a[0][0],max_heap_a[0][1],'a')\n",
    "    elif max_heap_b and len(max_heap_b) > len(max_heap_a):\n",
    "        return (-max_heap_b[0][0],max_heap_b[0][1],'b')\n"
   ]
  },
  {
   "cell_type": "code",
   "execution_count": 20,
   "metadata": {},
   "outputs": [
    {
     "data": {
      "text/plain": [
       "(2, 2, 'b')"
      ]
     },
     "execution_count": 20,
     "metadata": {},
     "output_type": "execute_result"
    }
   ],
   "source": [
    "max_ele = get_max_element(max_heap_a, max_heap_b)\n",
    "max_ele"
   ]
  },
  {
   "cell_type": "code",
   "execution_count": 29,
   "metadata": {},
   "outputs": [],
   "source": [
    "def get_comp_set(partition_set):\n",
    "    return 'b' if partition_set == 'a' else 'a'"
   ]
  },
  {
   "cell_type": "code",
   "execution_count": 23,
   "metadata": {},
   "outputs": [
    {
     "data": {
      "text/plain": [
       "defaultdict(int, {0: -3, 1: -5, 2: 2, 3: 2})"
      ]
     },
     "execution_count": 23,
     "metadata": {},
     "output_type": "execute_result"
    }
   ],
   "source": [
    "u = max_ele[1]\n",
    "for v,w in adjL[u]:\n",
    "    old_bucket = eval(f'bucket_{max_ele[0]}')\n",
    "    new_bucket = eval(f'bucket_{get_comp_set(max_ele[0])}')\n",
    "    old_bucket[gain[v]].remove(v)\n",
    "    if in_same_set(u,v,a,b):\n",
    "        gain[v] += 2*w\n",
    "    else:\n",
    "        gain[v] -= 2*w\n",
    "    new_bucket[gain[v]].append(v)\n",
    "gain"
   ]
  },
  {
   "cell_type": "code",
   "execution_count": 22,
   "metadata": {},
   "outputs": [
    {
     "data": {
      "text/plain": [
       "2"
      ]
     },
     "execution_count": 22,
     "metadata": {},
     "output_type": "execute_result"
    }
   ],
   "source": [
    "new_cut_size = cut_size - max_ele[0]\n",
    "new_cut_size"
   ]
  },
  {
   "cell_type": "code",
   "execution_count": 24,
   "metadata": {},
   "outputs": [
    {
     "data": {
      "text/plain": [
       "defaultdict(int, {0: -3, 1: -5, 3: 2})"
      ]
     },
     "execution_count": 24,
     "metadata": {},
     "output_type": "execute_result"
    }
   ],
   "source": [
    "# remove the swapped element\n",
    "gain.pop(u)\n",
    "gain"
   ]
  },
  {
   "cell_type": "code",
   "execution_count": 25,
   "metadata": {},
   "outputs": [
    {
     "name": "stdout",
     "output_type": "stream",
     "text": [
      "Locked Cells: [2]\n"
     ]
    }
   ],
   "source": [
    "locked_cells = list()\n",
    "locked_cells.append(max_ele[1])\n",
    "print('Locked Cells:',locked_cells)"
   ]
  },
  {
   "cell_type": "code",
   "execution_count": 45,
   "metadata": {},
   "outputs": [],
   "source": [
    "# update gains \n",
    "u = \n",
    "for u in adjL:    \n",
    "    \n",
    "    if u in a:\n",
    "        bucket_a[gain[u]].append(u)\n",
    "        heapq.heappush(max_heap_a, (-gain[u],u))\n",
    "        \n",
    "    else:\n",
    "        bucket_b[gain[u]].append(u)\n",
    "        heapq.heappush(max_heap_b,( -gain[u],u))"
   ]
  },
  {
   "cell_type": "code",
   "execution_count": 37,
   "metadata": {},
   "outputs": [],
   "source": [
    "eval(max_ele[2]).remove(max_ele[1])"
   ]
  },
  {
   "cell_type": "code",
   "execution_count": 40,
   "metadata": {},
   "outputs": [],
   "source": [
    "if max_ele[2] == 'a':\n",
    "    b.add(max_ele[1])\n",
    "elif max_ele[2] == 'b':\n",
    "    a.add(max_ele[1])"
   ]
  },
  {
   "cell_type": "code",
   "execution_count": 41,
   "metadata": {},
   "outputs": [
    {
     "data": {
      "text/plain": [
       "({0, 1, 2}, {3})"
      ]
     },
     "execution_count": 41,
     "metadata": {},
     "output_type": "execute_result"
    }
   ],
   "source": [
    "a,b"
   ]
  },
  {
   "cell_type": "code",
   "execution_count": 44,
   "metadata": {},
   "outputs": [
    {
     "name": "stdout",
     "output_type": "stream",
     "text": [
      "Locked Cells: [2]\n"
     ]
    },
    {
     "data": {
      "text/plain": [
       "defaultdict(int, {0: -1, 1: 1, 3: -2})"
      ]
     },
     "execution_count": 44,
     "metadata": {},
     "output_type": "execute_result"
    }
   ],
   "source": []
  },
  {
   "cell_type": "code",
   "execution_count": 43,
   "metadata": {},
   "outputs": [
    {
     "name": "stdout",
     "output_type": "stream",
     "text": [
      "(0, 1)\n",
      "(1, 3)\n",
      "(3, 2)\n"
     ]
    }
   ],
   "source": [
    "# update gains of all the neighbors \n",
    "for u in adjL[max_ele[1]]:\n",
    "    print(u)"
   ]
  },
  {
   "cell_type": "code",
   "execution_count": null,
   "metadata": {},
   "outputs": [],
   "source": []
  }
 ],
 "metadata": {
  "kernelspec": {
   "display_name": ".venv",
   "language": "python",
   "name": "python3"
  },
  "language_info": {
   "codemirror_mode": {
    "name": "ipython",
    "version": 3
   },
   "file_extension": ".py",
   "mimetype": "text/x-python",
   "name": "python",
   "nbconvert_exporter": "python",
   "pygments_lexer": "ipython3",
   "version": "3.9.14"
  },
  "orig_nbformat": 4,
  "vscode": {
   "interpreter": {
    "hash": "1726d8e195a82ba52d0cf777a6c550185c5b15aae9089c1f6dd83b666a9d3a13"
   }
  }
 },
 "nbformat": 4,
 "nbformat_minor": 2
}
